{
  "nbformat": 4,
  "nbformat_minor": 0,
  "metadata": {
    "colab": {
      "provenance": [],
      "authorship_tag": "ABX9TyPvUsB5C6Ta+DPblk7nZgJq"
    },
    "kernelspec": {
      "name": "python3",
      "display_name": "Python 3"
    },
    "language_info": {
      "name": "python"
    }
  },
  "cells": [
    {
      "cell_type": "code",
      "execution_count": 1,
      "metadata": {
        "id": "Ho-YTz_q2u16"
      },
      "outputs": [],
      "source": [
        "import pandas as pd\n",
        "import numpy as np\n",
        "import seaborn as sns # For Data Visualization\n",
        "import matplotlib.pyplot as plt # For Data Visualization"
      ]
    },
    {
      "cell_type": "code",
      "source": [
        "from google.colab import drive\n",
        "drive.mount('/content/drive/')"
      ],
      "metadata": {
        "colab": {
          "base_uri": "https://localhost:8080/"
        },
        "id": "ETBkBJ7I20Ef",
        "outputId": "65f71714-4885-494a-cfc1-75f799cf9cca"
      },
      "execution_count": 2,
      "outputs": [
        {
          "output_type": "stream",
          "name": "stdout",
          "text": [
            "Mounted at /content/drive/\n"
          ]
        }
      ]
    },
    {
      "cell_type": "code",
      "source": [
        "data=pd.read_csv(\"/content/drive/MyDrive/finance_complaint/consumer_complaints.csv\")"
      ],
      "metadata": {
        "colab": {
          "base_uri": "https://localhost:8080/"
        },
        "id": "UgWDPWfz20He",
        "outputId": "2d520c1f-25a3-49a8-c454-ac061faca22d"
      },
      "execution_count": 23,
      "outputs": [
        {
          "output_type": "stream",
          "name": "stderr",
          "text": [
            "/usr/local/lib/python3.7/dist-packages/IPython/core/interactiveshell.py:3326: DtypeWarning: Columns (5,11) have mixed types.Specify dtype option on import or set low_memory=False.\n",
            "  exec(code_obj, self.user_global_ns, self.user_ns)\n"
          ]
        }
      ]
    },
    {
      "cell_type": "code",
      "source": [
        "data=data"
      ],
      "metadata": {
        "id": "6SfCZuB520KU"
      },
      "execution_count": 20,
      "outputs": []
    },
    {
      "cell_type": "code",
      "source": [
        "data.head(3)"
      ],
      "metadata": {
        "colab": {
          "base_uri": "https://localhost:8080/",
          "height": 294
        },
        "id": "8lCT1USq20NL",
        "outputId": "f7245ada-54a6-4293-f4ca-67a345c83511"
      },
      "execution_count": 21,
      "outputs": [
        {
          "output_type": "execute_result",
          "data": {
            "text/plain": [
              "  date_received           product     sub_product  \\\n",
              "0    08/30/2013          Mortgage  Other mortgage   \n",
              "1    08/30/2013          Mortgage  Other mortgage   \n",
              "2    08/30/2013  Credit reporting             NaN   \n",
              "\n",
              "                                      issue       sub_issue  \\\n",
              "0  Loan modification,collection,foreclosure             NaN   \n",
              "1  Loan servicing, payments, escrow account             NaN   \n",
              "2    Incorrect information on credit report  Account status   \n",
              "\n",
              "  consumer_complaint_narrative company_public_response                company  \\\n",
              "0                          NaN                     NaN           U.S. Bancorp   \n",
              "1                          NaN                     NaN  Wells Fargo & Company   \n",
              "2                          NaN                     NaN  Wells Fargo & Company   \n",
              "\n",
              "  state zipcode tags consumer_consent_provided submitted_via  \\\n",
              "0    CA   95993  NaN                       NaN      Referral   \n",
              "1    CA   91104  NaN                       NaN      Referral   \n",
              "2    NY   11764  NaN                       NaN   Postal mail   \n",
              "\n",
              "  date_sent_to_company company_response_to_consumer timely_response  \\\n",
              "0           09/03/2013      Closed with explanation             Yes   \n",
              "1           09/03/2013      Closed with explanation             Yes   \n",
              "2           09/18/2013      Closed with explanation             Yes   \n",
              "\n",
              "  consumer_disputed?  complaint_id  \n",
              "0                Yes        511074  \n",
              "1                Yes        511080  \n",
              "2                 No        510473  "
            ],
            "text/html": [
              "\n",
              "  <div id=\"df-433eff0c-4030-40b4-b905-cbd38c3c3266\">\n",
              "    <div class=\"colab-df-container\">\n",
              "      <div>\n",
              "<style scoped>\n",
              "    .dataframe tbody tr th:only-of-type {\n",
              "        vertical-align: middle;\n",
              "    }\n",
              "\n",
              "    .dataframe tbody tr th {\n",
              "        vertical-align: top;\n",
              "    }\n",
              "\n",
              "    .dataframe thead th {\n",
              "        text-align: right;\n",
              "    }\n",
              "</style>\n",
              "<table border=\"1\" class=\"dataframe\">\n",
              "  <thead>\n",
              "    <tr style=\"text-align: right;\">\n",
              "      <th></th>\n",
              "      <th>date_received</th>\n",
              "      <th>product</th>\n",
              "      <th>sub_product</th>\n",
              "      <th>issue</th>\n",
              "      <th>sub_issue</th>\n",
              "      <th>consumer_complaint_narrative</th>\n",
              "      <th>company_public_response</th>\n",
              "      <th>company</th>\n",
              "      <th>state</th>\n",
              "      <th>zipcode</th>\n",
              "      <th>tags</th>\n",
              "      <th>consumer_consent_provided</th>\n",
              "      <th>submitted_via</th>\n",
              "      <th>date_sent_to_company</th>\n",
              "      <th>company_response_to_consumer</th>\n",
              "      <th>timely_response</th>\n",
              "      <th>consumer_disputed?</th>\n",
              "      <th>complaint_id</th>\n",
              "    </tr>\n",
              "  </thead>\n",
              "  <tbody>\n",
              "    <tr>\n",
              "      <th>0</th>\n",
              "      <td>08/30/2013</td>\n",
              "      <td>Mortgage</td>\n",
              "      <td>Other mortgage</td>\n",
              "      <td>Loan modification,collection,foreclosure</td>\n",
              "      <td>NaN</td>\n",
              "      <td>NaN</td>\n",
              "      <td>NaN</td>\n",
              "      <td>U.S. Bancorp</td>\n",
              "      <td>CA</td>\n",
              "      <td>95993</td>\n",
              "      <td>NaN</td>\n",
              "      <td>NaN</td>\n",
              "      <td>Referral</td>\n",
              "      <td>09/03/2013</td>\n",
              "      <td>Closed with explanation</td>\n",
              "      <td>Yes</td>\n",
              "      <td>Yes</td>\n",
              "      <td>511074</td>\n",
              "    </tr>\n",
              "    <tr>\n",
              "      <th>1</th>\n",
              "      <td>08/30/2013</td>\n",
              "      <td>Mortgage</td>\n",
              "      <td>Other mortgage</td>\n",
              "      <td>Loan servicing, payments, escrow account</td>\n",
              "      <td>NaN</td>\n",
              "      <td>NaN</td>\n",
              "      <td>NaN</td>\n",
              "      <td>Wells Fargo &amp; Company</td>\n",
              "      <td>CA</td>\n",
              "      <td>91104</td>\n",
              "      <td>NaN</td>\n",
              "      <td>NaN</td>\n",
              "      <td>Referral</td>\n",
              "      <td>09/03/2013</td>\n",
              "      <td>Closed with explanation</td>\n",
              "      <td>Yes</td>\n",
              "      <td>Yes</td>\n",
              "      <td>511080</td>\n",
              "    </tr>\n",
              "    <tr>\n",
              "      <th>2</th>\n",
              "      <td>08/30/2013</td>\n",
              "      <td>Credit reporting</td>\n",
              "      <td>NaN</td>\n",
              "      <td>Incorrect information on credit report</td>\n",
              "      <td>Account status</td>\n",
              "      <td>NaN</td>\n",
              "      <td>NaN</td>\n",
              "      <td>Wells Fargo &amp; Company</td>\n",
              "      <td>NY</td>\n",
              "      <td>11764</td>\n",
              "      <td>NaN</td>\n",
              "      <td>NaN</td>\n",
              "      <td>Postal mail</td>\n",
              "      <td>09/18/2013</td>\n",
              "      <td>Closed with explanation</td>\n",
              "      <td>Yes</td>\n",
              "      <td>No</td>\n",
              "      <td>510473</td>\n",
              "    </tr>\n",
              "  </tbody>\n",
              "</table>\n",
              "</div>\n",
              "      <button class=\"colab-df-convert\" onclick=\"convertToInteractive('df-433eff0c-4030-40b4-b905-cbd38c3c3266')\"\n",
              "              title=\"Convert this dataframe to an interactive table.\"\n",
              "              style=\"display:none;\">\n",
              "        \n",
              "  <svg xmlns=\"http://www.w3.org/2000/svg\" height=\"24px\"viewBox=\"0 0 24 24\"\n",
              "       width=\"24px\">\n",
              "    <path d=\"M0 0h24v24H0V0z\" fill=\"none\"/>\n",
              "    <path d=\"M18.56 5.44l.94 2.06.94-2.06 2.06-.94-2.06-.94-.94-2.06-.94 2.06-2.06.94zm-11 1L8.5 8.5l.94-2.06 2.06-.94-2.06-.94L8.5 2.5l-.94 2.06-2.06.94zm10 10l.94 2.06.94-2.06 2.06-.94-2.06-.94-.94-2.06-.94 2.06-2.06.94z\"/><path d=\"M17.41 7.96l-1.37-1.37c-.4-.4-.92-.59-1.43-.59-.52 0-1.04.2-1.43.59L10.3 9.45l-7.72 7.72c-.78.78-.78 2.05 0 2.83L4 21.41c.39.39.9.59 1.41.59.51 0 1.02-.2 1.41-.59l7.78-7.78 2.81-2.81c.8-.78.8-2.07 0-2.86zM5.41 20L4 18.59l7.72-7.72 1.47 1.35L5.41 20z\"/>\n",
              "  </svg>\n",
              "      </button>\n",
              "      \n",
              "  <style>\n",
              "    .colab-df-container {\n",
              "      display:flex;\n",
              "      flex-wrap:wrap;\n",
              "      gap: 12px;\n",
              "    }\n",
              "\n",
              "    .colab-df-convert {\n",
              "      background-color: #E8F0FE;\n",
              "      border: none;\n",
              "      border-radius: 50%;\n",
              "      cursor: pointer;\n",
              "      display: none;\n",
              "      fill: #1967D2;\n",
              "      height: 32px;\n",
              "      padding: 0 0 0 0;\n",
              "      width: 32px;\n",
              "    }\n",
              "\n",
              "    .colab-df-convert:hover {\n",
              "      background-color: #E2EBFA;\n",
              "      box-shadow: 0px 1px 2px rgba(60, 64, 67, 0.3), 0px 1px 3px 1px rgba(60, 64, 67, 0.15);\n",
              "      fill: #174EA6;\n",
              "    }\n",
              "\n",
              "    [theme=dark] .colab-df-convert {\n",
              "      background-color: #3B4455;\n",
              "      fill: #D2E3FC;\n",
              "    }\n",
              "\n",
              "    [theme=dark] .colab-df-convert:hover {\n",
              "      background-color: #434B5C;\n",
              "      box-shadow: 0px 1px 3px 1px rgba(0, 0, 0, 0.15);\n",
              "      filter: drop-shadow(0px 1px 2px rgba(0, 0, 0, 0.3));\n",
              "      fill: #FFFFFF;\n",
              "    }\n",
              "  </style>\n",
              "\n",
              "      <script>\n",
              "        const buttonEl =\n",
              "          document.querySelector('#df-433eff0c-4030-40b4-b905-cbd38c3c3266 button.colab-df-convert');\n",
              "        buttonEl.style.display =\n",
              "          google.colab.kernel.accessAllowed ? 'block' : 'none';\n",
              "\n",
              "        async function convertToInteractive(key) {\n",
              "          const element = document.querySelector('#df-433eff0c-4030-40b4-b905-cbd38c3c3266');\n",
              "          const dataTable =\n",
              "            await google.colab.kernel.invokeFunction('convertToInteractive',\n",
              "                                                     [key], {});\n",
              "          if (!dataTable) return;\n",
              "\n",
              "          const docLinkHtml = 'Like what you see? Visit the ' +\n",
              "            '<a target=\"_blank\" href=https://colab.research.google.com/notebooks/data_table.ipynb>data table notebook</a>'\n",
              "            + ' to learn more about interactive tables.';\n",
              "          element.innerHTML = '';\n",
              "          dataTable['output_type'] = 'display_data';\n",
              "          await google.colab.output.renderOutput(dataTable, element);\n",
              "          const docLink = document.createElement('div');\n",
              "          docLink.innerHTML = docLinkHtml;\n",
              "          element.appendChild(docLink);\n",
              "        }\n",
              "      </script>\n",
              "    </div>\n",
              "  </div>\n",
              "  "
            ]
          },
          "metadata": {},
          "execution_count": 21
        }
      ]
    },
    {
      "cell_type": "code",
      "source": [
        "data.loc[(data['consumer_complaint_narrative'].isnull()==False) & (data['company_public_response'].isnull()==False)].head(3)"
      ],
      "metadata": {
        "colab": {
          "base_uri": "https://localhost:8080/",
          "height": 329
        },
        "id": "SDtvgSSf5o8a",
        "outputId": "9af78db4-e2c8-421c-a2cd-74eb5d11eb9f"
      },
      "execution_count": 26,
      "outputs": [
        {
          "output_type": "execute_result",
          "data": {
            "text/plain": [
              "       date_received          product                  sub_product  \\\n",
              "190237    03/19/2015         Mortgage  Conventional fixed mortgage   \n",
              "190263    03/19/2015      Credit card                          NaN   \n",
              "191294    03/19/2015  Debt collection                     Mortgage   \n",
              "\n",
              "                                           issue  \\\n",
              "190237  Loan servicing, payments, escrow account   \n",
              "190263                                     Other   \n",
              "191294        False statements or representation   \n",
              "\n",
              "                                   sub_issue  \\\n",
              "190237                                   NaN   \n",
              "190263                                   NaN   \n",
              "191294  Impersonated an attorney or official   \n",
              "\n",
              "                             consumer_complaint_narrative  \\\n",
              "190237  Experian is reporting my OPEN and CURRENT Mort...   \n",
              "190263  i opened XXXX Bank of America credit cards 15-...   \n",
              "191294  Lawyers at this law firm ( XXXX ) sent me a le...   \n",
              "\n",
              "                                  company_public_response  \\\n",
              "190237   Company chooses not to provide a public response   \n",
              "190263   Company chooses not to provide a public response   \n",
              "191294  Company believes it acted appropriately as aut...   \n",
              "\n",
              "                    company state zipcode            tags  \\\n",
              "190237             Experian    CA   900XX  Older American   \n",
              "190263      Bank of America    OR   971XX             NaN   \n",
              "191294  Dean Morris, L.L.P.    LA   708XX             NaN   \n",
              "\n",
              "       consumer_consent_provided submitted_via date_sent_to_company  \\\n",
              "190237          Consent provided           Web           03/25/2015   \n",
              "190263          Consent provided           Web           03/19/2015   \n",
              "191294          Consent provided           Web           04/14/2015   \n",
              "\n",
              "       company_response_to_consumer timely_response consumer_disputed?  \\\n",
              "190237      Closed with explanation             Yes                 No   \n",
              "190263  Closed with monetary relief             Yes                Yes   \n",
              "191294      Closed with explanation             Yes                Yes   \n",
              "\n",
              "        complaint_id  \n",
              "190237       1290254  \n",
              "190263       1292209  \n",
              "191294       1290181  "
            ],
            "text/html": [
              "\n",
              "  <div id=\"df-81980b78-b646-48fa-b30b-d4cf8d390f26\">\n",
              "    <div class=\"colab-df-container\">\n",
              "      <div>\n",
              "<style scoped>\n",
              "    .dataframe tbody tr th:only-of-type {\n",
              "        vertical-align: middle;\n",
              "    }\n",
              "\n",
              "    .dataframe tbody tr th {\n",
              "        vertical-align: top;\n",
              "    }\n",
              "\n",
              "    .dataframe thead th {\n",
              "        text-align: right;\n",
              "    }\n",
              "</style>\n",
              "<table border=\"1\" class=\"dataframe\">\n",
              "  <thead>\n",
              "    <tr style=\"text-align: right;\">\n",
              "      <th></th>\n",
              "      <th>date_received</th>\n",
              "      <th>product</th>\n",
              "      <th>sub_product</th>\n",
              "      <th>issue</th>\n",
              "      <th>sub_issue</th>\n",
              "      <th>consumer_complaint_narrative</th>\n",
              "      <th>company_public_response</th>\n",
              "      <th>company</th>\n",
              "      <th>state</th>\n",
              "      <th>zipcode</th>\n",
              "      <th>tags</th>\n",
              "      <th>consumer_consent_provided</th>\n",
              "      <th>submitted_via</th>\n",
              "      <th>date_sent_to_company</th>\n",
              "      <th>company_response_to_consumer</th>\n",
              "      <th>timely_response</th>\n",
              "      <th>consumer_disputed?</th>\n",
              "      <th>complaint_id</th>\n",
              "    </tr>\n",
              "  </thead>\n",
              "  <tbody>\n",
              "    <tr>\n",
              "      <th>190237</th>\n",
              "      <td>03/19/2015</td>\n",
              "      <td>Mortgage</td>\n",
              "      <td>Conventional fixed mortgage</td>\n",
              "      <td>Loan servicing, payments, escrow account</td>\n",
              "      <td>NaN</td>\n",
              "      <td>Experian is reporting my OPEN and CURRENT Mort...</td>\n",
              "      <td>Company chooses not to provide a public response</td>\n",
              "      <td>Experian</td>\n",
              "      <td>CA</td>\n",
              "      <td>900XX</td>\n",
              "      <td>Older American</td>\n",
              "      <td>Consent provided</td>\n",
              "      <td>Web</td>\n",
              "      <td>03/25/2015</td>\n",
              "      <td>Closed with explanation</td>\n",
              "      <td>Yes</td>\n",
              "      <td>No</td>\n",
              "      <td>1290254</td>\n",
              "    </tr>\n",
              "    <tr>\n",
              "      <th>190263</th>\n",
              "      <td>03/19/2015</td>\n",
              "      <td>Credit card</td>\n",
              "      <td>NaN</td>\n",
              "      <td>Other</td>\n",
              "      <td>NaN</td>\n",
              "      <td>i opened XXXX Bank of America credit cards 15-...</td>\n",
              "      <td>Company chooses not to provide a public response</td>\n",
              "      <td>Bank of America</td>\n",
              "      <td>OR</td>\n",
              "      <td>971XX</td>\n",
              "      <td>NaN</td>\n",
              "      <td>Consent provided</td>\n",
              "      <td>Web</td>\n",
              "      <td>03/19/2015</td>\n",
              "      <td>Closed with monetary relief</td>\n",
              "      <td>Yes</td>\n",
              "      <td>Yes</td>\n",
              "      <td>1292209</td>\n",
              "    </tr>\n",
              "    <tr>\n",
              "      <th>191294</th>\n",
              "      <td>03/19/2015</td>\n",
              "      <td>Debt collection</td>\n",
              "      <td>Mortgage</td>\n",
              "      <td>False statements or representation</td>\n",
              "      <td>Impersonated an attorney or official</td>\n",
              "      <td>Lawyers at this law firm ( XXXX ) sent me a le...</td>\n",
              "      <td>Company believes it acted appropriately as aut...</td>\n",
              "      <td>Dean Morris, L.L.P.</td>\n",
              "      <td>LA</td>\n",
              "      <td>708XX</td>\n",
              "      <td>NaN</td>\n",
              "      <td>Consent provided</td>\n",
              "      <td>Web</td>\n",
              "      <td>04/14/2015</td>\n",
              "      <td>Closed with explanation</td>\n",
              "      <td>Yes</td>\n",
              "      <td>Yes</td>\n",
              "      <td>1290181</td>\n",
              "    </tr>\n",
              "  </tbody>\n",
              "</table>\n",
              "</div>\n",
              "      <button class=\"colab-df-convert\" onclick=\"convertToInteractive('df-81980b78-b646-48fa-b30b-d4cf8d390f26')\"\n",
              "              title=\"Convert this dataframe to an interactive table.\"\n",
              "              style=\"display:none;\">\n",
              "        \n",
              "  <svg xmlns=\"http://www.w3.org/2000/svg\" height=\"24px\"viewBox=\"0 0 24 24\"\n",
              "       width=\"24px\">\n",
              "    <path d=\"M0 0h24v24H0V0z\" fill=\"none\"/>\n",
              "    <path d=\"M18.56 5.44l.94 2.06.94-2.06 2.06-.94-2.06-.94-.94-2.06-.94 2.06-2.06.94zm-11 1L8.5 8.5l.94-2.06 2.06-.94-2.06-.94L8.5 2.5l-.94 2.06-2.06.94zm10 10l.94 2.06.94-2.06 2.06-.94-2.06-.94-.94-2.06-.94 2.06-2.06.94z\"/><path d=\"M17.41 7.96l-1.37-1.37c-.4-.4-.92-.59-1.43-.59-.52 0-1.04.2-1.43.59L10.3 9.45l-7.72 7.72c-.78.78-.78 2.05 0 2.83L4 21.41c.39.39.9.59 1.41.59.51 0 1.02-.2 1.41-.59l7.78-7.78 2.81-2.81c.8-.78.8-2.07 0-2.86zM5.41 20L4 18.59l7.72-7.72 1.47 1.35L5.41 20z\"/>\n",
              "  </svg>\n",
              "      </button>\n",
              "      \n",
              "  <style>\n",
              "    .colab-df-container {\n",
              "      display:flex;\n",
              "      flex-wrap:wrap;\n",
              "      gap: 12px;\n",
              "    }\n",
              "\n",
              "    .colab-df-convert {\n",
              "      background-color: #E8F0FE;\n",
              "      border: none;\n",
              "      border-radius: 50%;\n",
              "      cursor: pointer;\n",
              "      display: none;\n",
              "      fill: #1967D2;\n",
              "      height: 32px;\n",
              "      padding: 0 0 0 0;\n",
              "      width: 32px;\n",
              "    }\n",
              "\n",
              "    .colab-df-convert:hover {\n",
              "      background-color: #E2EBFA;\n",
              "      box-shadow: 0px 1px 2px rgba(60, 64, 67, 0.3), 0px 1px 3px 1px rgba(60, 64, 67, 0.15);\n",
              "      fill: #174EA6;\n",
              "    }\n",
              "\n",
              "    [theme=dark] .colab-df-convert {\n",
              "      background-color: #3B4455;\n",
              "      fill: #D2E3FC;\n",
              "    }\n",
              "\n",
              "    [theme=dark] .colab-df-convert:hover {\n",
              "      background-color: #434B5C;\n",
              "      box-shadow: 0px 1px 3px 1px rgba(0, 0, 0, 0.15);\n",
              "      filter: drop-shadow(0px 1px 2px rgba(0, 0, 0, 0.3));\n",
              "      fill: #FFFFFF;\n",
              "    }\n",
              "  </style>\n",
              "\n",
              "      <script>\n",
              "        const buttonEl =\n",
              "          document.querySelector('#df-81980b78-b646-48fa-b30b-d4cf8d390f26 button.colab-df-convert');\n",
              "        buttonEl.style.display =\n",
              "          google.colab.kernel.accessAllowed ? 'block' : 'none';\n",
              "\n",
              "        async function convertToInteractive(key) {\n",
              "          const element = document.querySelector('#df-81980b78-b646-48fa-b30b-d4cf8d390f26');\n",
              "          const dataTable =\n",
              "            await google.colab.kernel.invokeFunction('convertToInteractive',\n",
              "                                                     [key], {});\n",
              "          if (!dataTable) return;\n",
              "\n",
              "          const docLinkHtml = 'Like what you see? Visit the ' +\n",
              "            '<a target=\"_blank\" href=https://colab.research.google.com/notebooks/data_table.ipynb>data table notebook</a>'\n",
              "            + ' to learn more about interactive tables.';\n",
              "          element.innerHTML = '';\n",
              "          dataTable['output_type'] = 'display_data';\n",
              "          await google.colab.output.renderOutput(dataTable, element);\n",
              "          const docLink = document.createElement('div');\n",
              "          docLink.innerHTML = docLinkHtml;\n",
              "          element.appendChild(docLink);\n",
              "        }\n",
              "      </script>\n",
              "    </div>\n",
              "  </div>\n",
              "  "
            ]
          },
          "metadata": {},
          "execution_count": 26
        }
      ]
    },
    {
      "cell_type": "code",
      "source": [
        "df=data.drop(['issue','company_public_response','consumer_complaint_narrative','sub_issue','complaint_id','company_response_to_consumer','date_sent_to_company','zipcode','date_received'],axis=1)"
      ],
      "metadata": {
        "id": "k_Fh1wWo8oCt"
      },
      "execution_count": 31,
      "outputs": []
    },
    {
      "cell_type": "code",
      "source": [
        "df.head(3)"
      ],
      "metadata": {
        "colab": {
          "base_uri": "https://localhost:8080/",
          "height": 143
        },
        "id": "3iBw7ngt5o-9",
        "outputId": "cd184037-14d8-4927-cf26-e23be7c5f748"
      },
      "execution_count": 32,
      "outputs": [
        {
          "output_type": "execute_result",
          "data": {
            "text/plain": [
              "            product     sub_product                company state tags  \\\n",
              "0          Mortgage  Other mortgage           U.S. Bancorp    CA  NaN   \n",
              "1          Mortgage  Other mortgage  Wells Fargo & Company    CA  NaN   \n",
              "2  Credit reporting             NaN  Wells Fargo & Company    NY  NaN   \n",
              "\n",
              "  consumer_consent_provided submitted_via timely_response consumer_disputed?  \n",
              "0                       NaN      Referral             Yes                Yes  \n",
              "1                       NaN      Referral             Yes                Yes  \n",
              "2                       NaN   Postal mail             Yes                 No  "
            ],
            "text/html": [
              "\n",
              "  <div id=\"df-34b6d663-6610-43b4-b946-861967fc8692\">\n",
              "    <div class=\"colab-df-container\">\n",
              "      <div>\n",
              "<style scoped>\n",
              "    .dataframe tbody tr th:only-of-type {\n",
              "        vertical-align: middle;\n",
              "    }\n",
              "\n",
              "    .dataframe tbody tr th {\n",
              "        vertical-align: top;\n",
              "    }\n",
              "\n",
              "    .dataframe thead th {\n",
              "        text-align: right;\n",
              "    }\n",
              "</style>\n",
              "<table border=\"1\" class=\"dataframe\">\n",
              "  <thead>\n",
              "    <tr style=\"text-align: right;\">\n",
              "      <th></th>\n",
              "      <th>product</th>\n",
              "      <th>sub_product</th>\n",
              "      <th>company</th>\n",
              "      <th>state</th>\n",
              "      <th>tags</th>\n",
              "      <th>consumer_consent_provided</th>\n",
              "      <th>submitted_via</th>\n",
              "      <th>timely_response</th>\n",
              "      <th>consumer_disputed?</th>\n",
              "    </tr>\n",
              "  </thead>\n",
              "  <tbody>\n",
              "    <tr>\n",
              "      <th>0</th>\n",
              "      <td>Mortgage</td>\n",
              "      <td>Other mortgage</td>\n",
              "      <td>U.S. Bancorp</td>\n",
              "      <td>CA</td>\n",
              "      <td>NaN</td>\n",
              "      <td>NaN</td>\n",
              "      <td>Referral</td>\n",
              "      <td>Yes</td>\n",
              "      <td>Yes</td>\n",
              "    </tr>\n",
              "    <tr>\n",
              "      <th>1</th>\n",
              "      <td>Mortgage</td>\n",
              "      <td>Other mortgage</td>\n",
              "      <td>Wells Fargo &amp; Company</td>\n",
              "      <td>CA</td>\n",
              "      <td>NaN</td>\n",
              "      <td>NaN</td>\n",
              "      <td>Referral</td>\n",
              "      <td>Yes</td>\n",
              "      <td>Yes</td>\n",
              "    </tr>\n",
              "    <tr>\n",
              "      <th>2</th>\n",
              "      <td>Credit reporting</td>\n",
              "      <td>NaN</td>\n",
              "      <td>Wells Fargo &amp; Company</td>\n",
              "      <td>NY</td>\n",
              "      <td>NaN</td>\n",
              "      <td>NaN</td>\n",
              "      <td>Postal mail</td>\n",
              "      <td>Yes</td>\n",
              "      <td>No</td>\n",
              "    </tr>\n",
              "  </tbody>\n",
              "</table>\n",
              "</div>\n",
              "      <button class=\"colab-df-convert\" onclick=\"convertToInteractive('df-34b6d663-6610-43b4-b946-861967fc8692')\"\n",
              "              title=\"Convert this dataframe to an interactive table.\"\n",
              "              style=\"display:none;\">\n",
              "        \n",
              "  <svg xmlns=\"http://www.w3.org/2000/svg\" height=\"24px\"viewBox=\"0 0 24 24\"\n",
              "       width=\"24px\">\n",
              "    <path d=\"M0 0h24v24H0V0z\" fill=\"none\"/>\n",
              "    <path d=\"M18.56 5.44l.94 2.06.94-2.06 2.06-.94-2.06-.94-.94-2.06-.94 2.06-2.06.94zm-11 1L8.5 8.5l.94-2.06 2.06-.94-2.06-.94L8.5 2.5l-.94 2.06-2.06.94zm10 10l.94 2.06.94-2.06 2.06-.94-2.06-.94-.94-2.06-.94 2.06-2.06.94z\"/><path d=\"M17.41 7.96l-1.37-1.37c-.4-.4-.92-.59-1.43-.59-.52 0-1.04.2-1.43.59L10.3 9.45l-7.72 7.72c-.78.78-.78 2.05 0 2.83L4 21.41c.39.39.9.59 1.41.59.51 0 1.02-.2 1.41-.59l7.78-7.78 2.81-2.81c.8-.78.8-2.07 0-2.86zM5.41 20L4 18.59l7.72-7.72 1.47 1.35L5.41 20z\"/>\n",
              "  </svg>\n",
              "      </button>\n",
              "      \n",
              "  <style>\n",
              "    .colab-df-container {\n",
              "      display:flex;\n",
              "      flex-wrap:wrap;\n",
              "      gap: 12px;\n",
              "    }\n",
              "\n",
              "    .colab-df-convert {\n",
              "      background-color: #E8F0FE;\n",
              "      border: none;\n",
              "      border-radius: 50%;\n",
              "      cursor: pointer;\n",
              "      display: none;\n",
              "      fill: #1967D2;\n",
              "      height: 32px;\n",
              "      padding: 0 0 0 0;\n",
              "      width: 32px;\n",
              "    }\n",
              "\n",
              "    .colab-df-convert:hover {\n",
              "      background-color: #E2EBFA;\n",
              "      box-shadow: 0px 1px 2px rgba(60, 64, 67, 0.3), 0px 1px 3px 1px rgba(60, 64, 67, 0.15);\n",
              "      fill: #174EA6;\n",
              "    }\n",
              "\n",
              "    [theme=dark] .colab-df-convert {\n",
              "      background-color: #3B4455;\n",
              "      fill: #D2E3FC;\n",
              "    }\n",
              "\n",
              "    [theme=dark] .colab-df-convert:hover {\n",
              "      background-color: #434B5C;\n",
              "      box-shadow: 0px 1px 3px 1px rgba(0, 0, 0, 0.15);\n",
              "      filter: drop-shadow(0px 1px 2px rgba(0, 0, 0, 0.3));\n",
              "      fill: #FFFFFF;\n",
              "    }\n",
              "  </style>\n",
              "\n",
              "      <script>\n",
              "        const buttonEl =\n",
              "          document.querySelector('#df-34b6d663-6610-43b4-b946-861967fc8692 button.colab-df-convert');\n",
              "        buttonEl.style.display =\n",
              "          google.colab.kernel.accessAllowed ? 'block' : 'none';\n",
              "\n",
              "        async function convertToInteractive(key) {\n",
              "          const element = document.querySelector('#df-34b6d663-6610-43b4-b946-861967fc8692');\n",
              "          const dataTable =\n",
              "            await google.colab.kernel.invokeFunction('convertToInteractive',\n",
              "                                                     [key], {});\n",
              "          if (!dataTable) return;\n",
              "\n",
              "          const docLinkHtml = 'Like what you see? Visit the ' +\n",
              "            '<a target=\"_blank\" href=https://colab.research.google.com/notebooks/data_table.ipynb>data table notebook</a>'\n",
              "            + ' to learn more about interactive tables.';\n",
              "          element.innerHTML = '';\n",
              "          dataTable['output_type'] = 'display_data';\n",
              "          await google.colab.output.renderOutput(dataTable, element);\n",
              "          const docLink = document.createElement('div');\n",
              "          docLink.innerHTML = docLinkHtml;\n",
              "          element.appendChild(docLink);\n",
              "        }\n",
              "      </script>\n",
              "    </div>\n",
              "  </div>\n",
              "  "
            ]
          },
          "metadata": {},
          "execution_count": 32
        }
      ]
    },
    {
      "cell_type": "code",
      "source": [
        "df.shape"
      ],
      "metadata": {
        "colab": {
          "base_uri": "https://localhost:8080/"
        },
        "id": "jA7zvZh_5pBp",
        "outputId": "168dcd43-d787-47a6-eccd-965250d3b499"
      },
      "execution_count": 34,
      "outputs": [
        {
          "output_type": "execute_result",
          "data": {
            "text/plain": [
              "(555957, 9)"
            ]
          },
          "metadata": {},
          "execution_count": 34
        }
      ]
    },
    {
      "cell_type": "code",
      "source": [
        "train_X=df.drop('consumer_disputed?',axis=1)\n",
        "train_y=df['consumer_disputed?']"
      ],
      "metadata": {
        "id": "qZSVGVrm9Gem"
      },
      "execution_count": 35,
      "outputs": []
    },
    {
      "cell_type": "code",
      "source": [
        "df.info()"
      ],
      "metadata": {
        "colab": {
          "base_uri": "https://localhost:8080/"
        },
        "id": "87hmJE2x9GhU",
        "outputId": "5952ea28-c563-4805-f79a-45055392092b"
      },
      "execution_count": 36,
      "outputs": [
        {
          "output_type": "stream",
          "name": "stdout",
          "text": [
            "<class 'pandas.core.frame.DataFrame'>\n",
            "RangeIndex: 555957 entries, 0 to 555956\n",
            "Data columns (total 9 columns):\n",
            " #   Column                     Non-Null Count   Dtype \n",
            "---  ------                     --------------   ----- \n",
            " 0   product                    555957 non-null  object\n",
            " 1   sub_product                397635 non-null  object\n",
            " 2   company                    555957 non-null  object\n",
            " 3   state                      551070 non-null  object\n",
            " 4   tags                       77959 non-null   object\n",
            " 5   consumer_consent_provided  123458 non-null  object\n",
            " 6   submitted_via              555957 non-null  object\n",
            " 7   timely_response            555957 non-null  object\n",
            " 8   consumer_disputed?         555957 non-null  object\n",
            "dtypes: object(9)\n",
            "memory usage: 38.2+ MB\n"
          ]
        }
      ]
    },
    {
      "cell_type": "markdown",
      "source": [
        "**Creating Pipeline**"
      ],
      "metadata": {
        "id": "siHPrWRm97HE"
      }
    },
    {
      "cell_type": "code",
      "source": [
        "\n",
        "from sklearn.preprocessing import OneHotEncoder\n",
        "from sklearn.pipeline import Pipeline\n",
        "from sklearn.impute import SimpleImputer\n",
        "from sklearn.compose import ColumnTransformer\n",
        "\n",
        "categorical_transformer=Pipeline(steps=[\n",
        "            ('imputer',SimpleImputer(strategy='most_frequent')),\n",
        "            ('onehot',OneHotEncoder(handle_unknown='ignore'))\n",
        "])\n",
        "#numerical_transformer=Pipeline(steps=[\n",
        "          #    ('imputer', SimpleImputer(strategy='median'))                       \n",
        "#])\n",
        "\n",
        "preprocessor=ColumnTransformer(transformers=[\n",
        "    ('cat',categorical_transformer,train_X.columns)\n",
        "])\n"
      ],
      "metadata": {
        "id": "3M32mdmc9Gj8"
      },
      "execution_count": 45,
      "outputs": []
    },
    {
      "cell_type": "code",
      "source": [
        "from sklearn.preprocessing import LabelEncoder\n",
        "\n",
        "labels=df['consumer_disputed?']\n",
        "labelencoder= LabelEncoder()\n",
        "train_y=labelencoder.fit_transform(labels)"
      ],
      "metadata": {
        "id": "eZ78DQGj9GnK"
      },
      "execution_count": 42,
      "outputs": []
    },
    {
      "cell_type": "code",
      "source": [
        "train_y"
      ],
      "metadata": {
        "colab": {
          "base_uri": "https://localhost:8080/"
        },
        "id": "ueyUU7-t9GpS",
        "outputId": "048a7c96-d05d-478b-9a40-0f2f84d38406"
      },
      "execution_count": 43,
      "outputs": [
        {
          "output_type": "execute_result",
          "data": {
            "text/plain": [
              "array([1, 1, 0, ..., 0, 0, 0])"
            ]
          },
          "metadata": {},
          "execution_count": 43
        }
      ]
    },
    {
      "cell_type": "code",
      "source": [
        "from xgboost import XGBClassifier\n",
        "\n",
        "xgboost_model_ = XGBClassifier(n_estimators=2, max_depth=2, learning_rate=1, objective='binary:logistic')\n",
        "\n",
        "fin_pipeline=Pipeline([\n",
        "    ('preprocessor',preprocessor),\n",
        "     (\"model\", xgboost_model_)\n",
        "])\n",
        "\n",
        "fin_pipeline.fit(train_X,train_y)"
      ],
      "metadata": {
        "colab": {
          "base_uri": "https://localhost:8080/"
        },
        "id": "VFVWJrX39Grm",
        "outputId": "82f8897a-9ecf-4fe3-d011-4dd555596a54"
      },
      "execution_count": 46,
      "outputs": [
        {
          "output_type": "execute_result",
          "data": {
            "text/plain": [
              "Pipeline(steps=[('preprocessor',\n",
              "                 ColumnTransformer(transformers=[('cat',\n",
              "                                                  Pipeline(steps=[('imputer',\n",
              "                                                                   SimpleImputer(strategy='most_frequent')),\n",
              "                                                                  ('onehot',\n",
              "                                                                   OneHotEncoder(handle_unknown='ignore'))]),\n",
              "                                                  Index(['product', 'sub_product', 'company', 'state', 'tags',\n",
              "       'consumer_consent_provided', 'submitted_via', 'timely_response'],\n",
              "      dtype='object'))])),\n",
              "                ('model',\n",
              "                 XGBClassifier(learning_rate=1, max_depth=2, n_estimators=2))])"
            ]
          },
          "metadata": {},
          "execution_count": 46
        }
      ]
    },
    {
      "cell_type": "code",
      "source": [],
      "metadata": {
        "id": "sg5IK6xD9GvG"
      },
      "execution_count": null,
      "outputs": []
    },
    {
      "cell_type": "code",
      "source": [],
      "metadata": {
        "id": "1dS6xEeb9Gx8"
      },
      "execution_count": null,
      "outputs": []
    },
    {
      "cell_type": "code",
      "source": [],
      "metadata": {
        "id": "F9vqamlg5pET"
      },
      "execution_count": null,
      "outputs": []
    },
    {
      "cell_type": "code",
      "source": [],
      "metadata": {
        "id": "pooKFZWe5pGZ"
      },
      "execution_count": null,
      "outputs": []
    },
    {
      "cell_type": "code",
      "source": [],
      "metadata": {
        "id": "Q-J2phR-5pJK"
      },
      "execution_count": null,
      "outputs": []
    },
    {
      "cell_type": "code",
      "source": [],
      "metadata": {
        "id": "-AE-gYE120PL"
      },
      "execution_count": null,
      "outputs": []
    },
    {
      "cell_type": "code",
      "source": [],
      "metadata": {
        "id": "VTI2bfAv20SO"
      },
      "execution_count": null,
      "outputs": []
    }
  ]
}