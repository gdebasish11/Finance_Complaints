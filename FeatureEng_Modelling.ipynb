{
  "nbformat": 4,
  "nbformat_minor": 0,
  "metadata": {
    "colab": {
      "provenance": [],
      "authorship_tag": "ABX9TyMcm7By4fd06UjOiRFZbQda"
    },
    "kernelspec": {
      "name": "python3",
      "display_name": "Python 3"
    },
    "language_info": {
      "name": "python"
    }
  },
  "cells": [
    {
      "cell_type": "code",
      "execution_count": 2,
      "metadata": {
        "id": "Ho-YTz_q2u16"
      },
      "outputs": [],
      "source": [
        "import pandas as pd\n",
        "import numpy as np\n",
        "import seaborn as sns # For Data Visualization\n",
        "import matplotlib.pyplot as plt # For Data Visualization"
      ]
    },
    {
      "cell_type": "code",
      "source": [
        "from google.colab import drive\n",
        "drive.mount('/content/drive/')"
      ],
      "metadata": {
        "colab": {
          "base_uri": "https://localhost:8080/"
        },
        "id": "ETBkBJ7I20Ef",
        "outputId": "21d0ab94-eefd-4f35-ddf6-143e593059e4"
      },
      "execution_count": 3,
      "outputs": [
        {
          "output_type": "stream",
          "name": "stdout",
          "text": [
            "Mounted at /content/drive/\n"
          ]
        }
      ]
    },
    {
      "cell_type": "code",
      "source": [
        "data=pd.read_csv(\"/content/drive/MyDrive/finance_complaint/consumer_complaints.csv\")"
      ],
      "metadata": {
        "colab": {
          "base_uri": "https://localhost:8080/"
        },
        "id": "UgWDPWfz20He",
        "outputId": "57f2e2f4-8ec7-4f19-895f-1155017dcb04"
      },
      "execution_count": 4,
      "outputs": [
        {
          "output_type": "stream",
          "name": "stderr",
          "text": [
            "/usr/local/lib/python3.7/dist-packages/IPython/core/interactiveshell.py:3326: DtypeWarning: Columns (5,11) have mixed types.Specify dtype option on import or set low_memory=False.\n",
            "  exec(code_obj, self.user_global_ns, self.user_ns)\n"
          ]
        }
      ]
    },
    {
      "cell_type": "code",
      "source": [
        "data=data"
      ],
      "metadata": {
        "id": "6SfCZuB520KU"
      },
      "execution_count": 5,
      "outputs": []
    },
    {
      "cell_type": "code",
      "source": [
        "data.head(3)"
      ],
      "metadata": {
        "colab": {
          "base_uri": "https://localhost:8080/",
          "height": 294
        },
        "id": "8lCT1USq20NL",
        "outputId": "41fa864a-5319-4bbc-f2b8-98fa13915a4b"
      },
      "execution_count": 6,
      "outputs": [
        {
          "output_type": "execute_result",
          "data": {
            "text/plain": [
              "  date_received           product     sub_product  \\\n",
              "0    08/30/2013          Mortgage  Other mortgage   \n",
              "1    08/30/2013          Mortgage  Other mortgage   \n",
              "2    08/30/2013  Credit reporting             NaN   \n",
              "\n",
              "                                      issue       sub_issue  \\\n",
              "0  Loan modification,collection,foreclosure             NaN   \n",
              "1  Loan servicing, payments, escrow account             NaN   \n",
              "2    Incorrect information on credit report  Account status   \n",
              "\n",
              "  consumer_complaint_narrative company_public_response                company  \\\n",
              "0                          NaN                     NaN           U.S. Bancorp   \n",
              "1                          NaN                     NaN  Wells Fargo & Company   \n",
              "2                          NaN                     NaN  Wells Fargo & Company   \n",
              "\n",
              "  state zipcode tags consumer_consent_provided submitted_via  \\\n",
              "0    CA   95993  NaN                       NaN      Referral   \n",
              "1    CA   91104  NaN                       NaN      Referral   \n",
              "2    NY   11764  NaN                       NaN   Postal mail   \n",
              "\n",
              "  date_sent_to_company company_response_to_consumer timely_response  \\\n",
              "0           09/03/2013      Closed with explanation             Yes   \n",
              "1           09/03/2013      Closed with explanation             Yes   \n",
              "2           09/18/2013      Closed with explanation             Yes   \n",
              "\n",
              "  consumer_disputed?  complaint_id  \n",
              "0                Yes        511074  \n",
              "1                Yes        511080  \n",
              "2                 No        510473  "
            ],
            "text/html": [
              "\n",
              "  <div id=\"df-37087365-4944-4d50-bfff-97804c472567\">\n",
              "    <div class=\"colab-df-container\">\n",
              "      <div>\n",
              "<style scoped>\n",
              "    .dataframe tbody tr th:only-of-type {\n",
              "        vertical-align: middle;\n",
              "    }\n",
              "\n",
              "    .dataframe tbody tr th {\n",
              "        vertical-align: top;\n",
              "    }\n",
              "\n",
              "    .dataframe thead th {\n",
              "        text-align: right;\n",
              "    }\n",
              "</style>\n",
              "<table border=\"1\" class=\"dataframe\">\n",
              "  <thead>\n",
              "    <tr style=\"text-align: right;\">\n",
              "      <th></th>\n",
              "      <th>date_received</th>\n",
              "      <th>product</th>\n",
              "      <th>sub_product</th>\n",
              "      <th>issue</th>\n",
              "      <th>sub_issue</th>\n",
              "      <th>consumer_complaint_narrative</th>\n",
              "      <th>company_public_response</th>\n",
              "      <th>company</th>\n",
              "      <th>state</th>\n",
              "      <th>zipcode</th>\n",
              "      <th>tags</th>\n",
              "      <th>consumer_consent_provided</th>\n",
              "      <th>submitted_via</th>\n",
              "      <th>date_sent_to_company</th>\n",
              "      <th>company_response_to_consumer</th>\n",
              "      <th>timely_response</th>\n",
              "      <th>consumer_disputed?</th>\n",
              "      <th>complaint_id</th>\n",
              "    </tr>\n",
              "  </thead>\n",
              "  <tbody>\n",
              "    <tr>\n",
              "      <th>0</th>\n",
              "      <td>08/30/2013</td>\n",
              "      <td>Mortgage</td>\n",
              "      <td>Other mortgage</td>\n",
              "      <td>Loan modification,collection,foreclosure</td>\n",
              "      <td>NaN</td>\n",
              "      <td>NaN</td>\n",
              "      <td>NaN</td>\n",
              "      <td>U.S. Bancorp</td>\n",
              "      <td>CA</td>\n",
              "      <td>95993</td>\n",
              "      <td>NaN</td>\n",
              "      <td>NaN</td>\n",
              "      <td>Referral</td>\n",
              "      <td>09/03/2013</td>\n",
              "      <td>Closed with explanation</td>\n",
              "      <td>Yes</td>\n",
              "      <td>Yes</td>\n",
              "      <td>511074</td>\n",
              "    </tr>\n",
              "    <tr>\n",
              "      <th>1</th>\n",
              "      <td>08/30/2013</td>\n",
              "      <td>Mortgage</td>\n",
              "      <td>Other mortgage</td>\n",
              "      <td>Loan servicing, payments, escrow account</td>\n",
              "      <td>NaN</td>\n",
              "      <td>NaN</td>\n",
              "      <td>NaN</td>\n",
              "      <td>Wells Fargo &amp; Company</td>\n",
              "      <td>CA</td>\n",
              "      <td>91104</td>\n",
              "      <td>NaN</td>\n",
              "      <td>NaN</td>\n",
              "      <td>Referral</td>\n",
              "      <td>09/03/2013</td>\n",
              "      <td>Closed with explanation</td>\n",
              "      <td>Yes</td>\n",
              "      <td>Yes</td>\n",
              "      <td>511080</td>\n",
              "    </tr>\n",
              "    <tr>\n",
              "      <th>2</th>\n",
              "      <td>08/30/2013</td>\n",
              "      <td>Credit reporting</td>\n",
              "      <td>NaN</td>\n",
              "      <td>Incorrect information on credit report</td>\n",
              "      <td>Account status</td>\n",
              "      <td>NaN</td>\n",
              "      <td>NaN</td>\n",
              "      <td>Wells Fargo &amp; Company</td>\n",
              "      <td>NY</td>\n",
              "      <td>11764</td>\n",
              "      <td>NaN</td>\n",
              "      <td>NaN</td>\n",
              "      <td>Postal mail</td>\n",
              "      <td>09/18/2013</td>\n",
              "      <td>Closed with explanation</td>\n",
              "      <td>Yes</td>\n",
              "      <td>No</td>\n",
              "      <td>510473</td>\n",
              "    </tr>\n",
              "  </tbody>\n",
              "</table>\n",
              "</div>\n",
              "      <button class=\"colab-df-convert\" onclick=\"convertToInteractive('df-37087365-4944-4d50-bfff-97804c472567')\"\n",
              "              title=\"Convert this dataframe to an interactive table.\"\n",
              "              style=\"display:none;\">\n",
              "        \n",
              "  <svg xmlns=\"http://www.w3.org/2000/svg\" height=\"24px\"viewBox=\"0 0 24 24\"\n",
              "       width=\"24px\">\n",
              "    <path d=\"M0 0h24v24H0V0z\" fill=\"none\"/>\n",
              "    <path d=\"M18.56 5.44l.94 2.06.94-2.06 2.06-.94-2.06-.94-.94-2.06-.94 2.06-2.06.94zm-11 1L8.5 8.5l.94-2.06 2.06-.94-2.06-.94L8.5 2.5l-.94 2.06-2.06.94zm10 10l.94 2.06.94-2.06 2.06-.94-2.06-.94-.94-2.06-.94 2.06-2.06.94z\"/><path d=\"M17.41 7.96l-1.37-1.37c-.4-.4-.92-.59-1.43-.59-.52 0-1.04.2-1.43.59L10.3 9.45l-7.72 7.72c-.78.78-.78 2.05 0 2.83L4 21.41c.39.39.9.59 1.41.59.51 0 1.02-.2 1.41-.59l7.78-7.78 2.81-2.81c.8-.78.8-2.07 0-2.86zM5.41 20L4 18.59l7.72-7.72 1.47 1.35L5.41 20z\"/>\n",
              "  </svg>\n",
              "      </button>\n",
              "      \n",
              "  <style>\n",
              "    .colab-df-container {\n",
              "      display:flex;\n",
              "      flex-wrap:wrap;\n",
              "      gap: 12px;\n",
              "    }\n",
              "\n",
              "    .colab-df-convert {\n",
              "      background-color: #E8F0FE;\n",
              "      border: none;\n",
              "      border-radius: 50%;\n",
              "      cursor: pointer;\n",
              "      display: none;\n",
              "      fill: #1967D2;\n",
              "      height: 32px;\n",
              "      padding: 0 0 0 0;\n",
              "      width: 32px;\n",
              "    }\n",
              "\n",
              "    .colab-df-convert:hover {\n",
              "      background-color: #E2EBFA;\n",
              "      box-shadow: 0px 1px 2px rgba(60, 64, 67, 0.3), 0px 1px 3px 1px rgba(60, 64, 67, 0.15);\n",
              "      fill: #174EA6;\n",
              "    }\n",
              "\n",
              "    [theme=dark] .colab-df-convert {\n",
              "      background-color: #3B4455;\n",
              "      fill: #D2E3FC;\n",
              "    }\n",
              "\n",
              "    [theme=dark] .colab-df-convert:hover {\n",
              "      background-color: #434B5C;\n",
              "      box-shadow: 0px 1px 3px 1px rgba(0, 0, 0, 0.15);\n",
              "      filter: drop-shadow(0px 1px 2px rgba(0, 0, 0, 0.3));\n",
              "      fill: #FFFFFF;\n",
              "    }\n",
              "  </style>\n",
              "\n",
              "      <script>\n",
              "        const buttonEl =\n",
              "          document.querySelector('#df-37087365-4944-4d50-bfff-97804c472567 button.colab-df-convert');\n",
              "        buttonEl.style.display =\n",
              "          google.colab.kernel.accessAllowed ? 'block' : 'none';\n",
              "\n",
              "        async function convertToInteractive(key) {\n",
              "          const element = document.querySelector('#df-37087365-4944-4d50-bfff-97804c472567');\n",
              "          const dataTable =\n",
              "            await google.colab.kernel.invokeFunction('convertToInteractive',\n",
              "                                                     [key], {});\n",
              "          if (!dataTable) return;\n",
              "\n",
              "          const docLinkHtml = 'Like what you see? Visit the ' +\n",
              "            '<a target=\"_blank\" href=https://colab.research.google.com/notebooks/data_table.ipynb>data table notebook</a>'\n",
              "            + ' to learn more about interactive tables.';\n",
              "          element.innerHTML = '';\n",
              "          dataTable['output_type'] = 'display_data';\n",
              "          await google.colab.output.renderOutput(dataTable, element);\n",
              "          const docLink = document.createElement('div');\n",
              "          docLink.innerHTML = docLinkHtml;\n",
              "          element.appendChild(docLink);\n",
              "        }\n",
              "      </script>\n",
              "    </div>\n",
              "  </div>\n",
              "  "
            ]
          },
          "metadata": {},
          "execution_count": 6
        }
      ]
    },
    {
      "cell_type": "code",
      "source": [
        "data.loc[(data['consumer_complaint_narrative'].isnull()==False) & (data['company_public_response'].isnull()==False)].head(3)"
      ],
      "metadata": {
        "colab": {
          "base_uri": "https://localhost:8080/",
          "height": 329
        },
        "id": "SDtvgSSf5o8a",
        "outputId": "dbe63368-d3af-4301-8077-0fd19505104c"
      },
      "execution_count": 7,
      "outputs": [
        {
          "output_type": "execute_result",
          "data": {
            "text/plain": [
              "       date_received          product                  sub_product  \\\n",
              "190237    03/19/2015         Mortgage  Conventional fixed mortgage   \n",
              "190263    03/19/2015      Credit card                          NaN   \n",
              "191294    03/19/2015  Debt collection                     Mortgage   \n",
              "\n",
              "                                           issue  \\\n",
              "190237  Loan servicing, payments, escrow account   \n",
              "190263                                     Other   \n",
              "191294        False statements or representation   \n",
              "\n",
              "                                   sub_issue  \\\n",
              "190237                                   NaN   \n",
              "190263                                   NaN   \n",
              "191294  Impersonated an attorney or official   \n",
              "\n",
              "                             consumer_complaint_narrative  \\\n",
              "190237  Experian is reporting my OPEN and CURRENT Mort...   \n",
              "190263  i opened XXXX Bank of America credit cards 15-...   \n",
              "191294  Lawyers at this law firm ( XXXX ) sent me a le...   \n",
              "\n",
              "                                  company_public_response  \\\n",
              "190237   Company chooses not to provide a public response   \n",
              "190263   Company chooses not to provide a public response   \n",
              "191294  Company believes it acted appropriately as aut...   \n",
              "\n",
              "                    company state zipcode            tags  \\\n",
              "190237             Experian    CA   900XX  Older American   \n",
              "190263      Bank of America    OR   971XX             NaN   \n",
              "191294  Dean Morris, L.L.P.    LA   708XX             NaN   \n",
              "\n",
              "       consumer_consent_provided submitted_via date_sent_to_company  \\\n",
              "190237          Consent provided           Web           03/25/2015   \n",
              "190263          Consent provided           Web           03/19/2015   \n",
              "191294          Consent provided           Web           04/14/2015   \n",
              "\n",
              "       company_response_to_consumer timely_response consumer_disputed?  \\\n",
              "190237      Closed with explanation             Yes                 No   \n",
              "190263  Closed with monetary relief             Yes                Yes   \n",
              "191294      Closed with explanation             Yes                Yes   \n",
              "\n",
              "        complaint_id  \n",
              "190237       1290254  \n",
              "190263       1292209  \n",
              "191294       1290181  "
            ],
            "text/html": [
              "\n",
              "  <div id=\"df-485d26d6-1b48-4b38-a0f9-6e1c9b1aad10\">\n",
              "    <div class=\"colab-df-container\">\n",
              "      <div>\n",
              "<style scoped>\n",
              "    .dataframe tbody tr th:only-of-type {\n",
              "        vertical-align: middle;\n",
              "    }\n",
              "\n",
              "    .dataframe tbody tr th {\n",
              "        vertical-align: top;\n",
              "    }\n",
              "\n",
              "    .dataframe thead th {\n",
              "        text-align: right;\n",
              "    }\n",
              "</style>\n",
              "<table border=\"1\" class=\"dataframe\">\n",
              "  <thead>\n",
              "    <tr style=\"text-align: right;\">\n",
              "      <th></th>\n",
              "      <th>date_received</th>\n",
              "      <th>product</th>\n",
              "      <th>sub_product</th>\n",
              "      <th>issue</th>\n",
              "      <th>sub_issue</th>\n",
              "      <th>consumer_complaint_narrative</th>\n",
              "      <th>company_public_response</th>\n",
              "      <th>company</th>\n",
              "      <th>state</th>\n",
              "      <th>zipcode</th>\n",
              "      <th>tags</th>\n",
              "      <th>consumer_consent_provided</th>\n",
              "      <th>submitted_via</th>\n",
              "      <th>date_sent_to_company</th>\n",
              "      <th>company_response_to_consumer</th>\n",
              "      <th>timely_response</th>\n",
              "      <th>consumer_disputed?</th>\n",
              "      <th>complaint_id</th>\n",
              "    </tr>\n",
              "  </thead>\n",
              "  <tbody>\n",
              "    <tr>\n",
              "      <th>190237</th>\n",
              "      <td>03/19/2015</td>\n",
              "      <td>Mortgage</td>\n",
              "      <td>Conventional fixed mortgage</td>\n",
              "      <td>Loan servicing, payments, escrow account</td>\n",
              "      <td>NaN</td>\n",
              "      <td>Experian is reporting my OPEN and CURRENT Mort...</td>\n",
              "      <td>Company chooses not to provide a public response</td>\n",
              "      <td>Experian</td>\n",
              "      <td>CA</td>\n",
              "      <td>900XX</td>\n",
              "      <td>Older American</td>\n",
              "      <td>Consent provided</td>\n",
              "      <td>Web</td>\n",
              "      <td>03/25/2015</td>\n",
              "      <td>Closed with explanation</td>\n",
              "      <td>Yes</td>\n",
              "      <td>No</td>\n",
              "      <td>1290254</td>\n",
              "    </tr>\n",
              "    <tr>\n",
              "      <th>190263</th>\n",
              "      <td>03/19/2015</td>\n",
              "      <td>Credit card</td>\n",
              "      <td>NaN</td>\n",
              "      <td>Other</td>\n",
              "      <td>NaN</td>\n",
              "      <td>i opened XXXX Bank of America credit cards 15-...</td>\n",
              "      <td>Company chooses not to provide a public response</td>\n",
              "      <td>Bank of America</td>\n",
              "      <td>OR</td>\n",
              "      <td>971XX</td>\n",
              "      <td>NaN</td>\n",
              "      <td>Consent provided</td>\n",
              "      <td>Web</td>\n",
              "      <td>03/19/2015</td>\n",
              "      <td>Closed with monetary relief</td>\n",
              "      <td>Yes</td>\n",
              "      <td>Yes</td>\n",
              "      <td>1292209</td>\n",
              "    </tr>\n",
              "    <tr>\n",
              "      <th>191294</th>\n",
              "      <td>03/19/2015</td>\n",
              "      <td>Debt collection</td>\n",
              "      <td>Mortgage</td>\n",
              "      <td>False statements or representation</td>\n",
              "      <td>Impersonated an attorney or official</td>\n",
              "      <td>Lawyers at this law firm ( XXXX ) sent me a le...</td>\n",
              "      <td>Company believes it acted appropriately as aut...</td>\n",
              "      <td>Dean Morris, L.L.P.</td>\n",
              "      <td>LA</td>\n",
              "      <td>708XX</td>\n",
              "      <td>NaN</td>\n",
              "      <td>Consent provided</td>\n",
              "      <td>Web</td>\n",
              "      <td>04/14/2015</td>\n",
              "      <td>Closed with explanation</td>\n",
              "      <td>Yes</td>\n",
              "      <td>Yes</td>\n",
              "      <td>1290181</td>\n",
              "    </tr>\n",
              "  </tbody>\n",
              "</table>\n",
              "</div>\n",
              "      <button class=\"colab-df-convert\" onclick=\"convertToInteractive('df-485d26d6-1b48-4b38-a0f9-6e1c9b1aad10')\"\n",
              "              title=\"Convert this dataframe to an interactive table.\"\n",
              "              style=\"display:none;\">\n",
              "        \n",
              "  <svg xmlns=\"http://www.w3.org/2000/svg\" height=\"24px\"viewBox=\"0 0 24 24\"\n",
              "       width=\"24px\">\n",
              "    <path d=\"M0 0h24v24H0V0z\" fill=\"none\"/>\n",
              "    <path d=\"M18.56 5.44l.94 2.06.94-2.06 2.06-.94-2.06-.94-.94-2.06-.94 2.06-2.06.94zm-11 1L8.5 8.5l.94-2.06 2.06-.94-2.06-.94L8.5 2.5l-.94 2.06-2.06.94zm10 10l.94 2.06.94-2.06 2.06-.94-2.06-.94-.94-2.06-.94 2.06-2.06.94z\"/><path d=\"M17.41 7.96l-1.37-1.37c-.4-.4-.92-.59-1.43-.59-.52 0-1.04.2-1.43.59L10.3 9.45l-7.72 7.72c-.78.78-.78 2.05 0 2.83L4 21.41c.39.39.9.59 1.41.59.51 0 1.02-.2 1.41-.59l7.78-7.78 2.81-2.81c.8-.78.8-2.07 0-2.86zM5.41 20L4 18.59l7.72-7.72 1.47 1.35L5.41 20z\"/>\n",
              "  </svg>\n",
              "      </button>\n",
              "      \n",
              "  <style>\n",
              "    .colab-df-container {\n",
              "      display:flex;\n",
              "      flex-wrap:wrap;\n",
              "      gap: 12px;\n",
              "    }\n",
              "\n",
              "    .colab-df-convert {\n",
              "      background-color: #E8F0FE;\n",
              "      border: none;\n",
              "      border-radius: 50%;\n",
              "      cursor: pointer;\n",
              "      display: none;\n",
              "      fill: #1967D2;\n",
              "      height: 32px;\n",
              "      padding: 0 0 0 0;\n",
              "      width: 32px;\n",
              "    }\n",
              "\n",
              "    .colab-df-convert:hover {\n",
              "      background-color: #E2EBFA;\n",
              "      box-shadow: 0px 1px 2px rgba(60, 64, 67, 0.3), 0px 1px 3px 1px rgba(60, 64, 67, 0.15);\n",
              "      fill: #174EA6;\n",
              "    }\n",
              "\n",
              "    [theme=dark] .colab-df-convert {\n",
              "      background-color: #3B4455;\n",
              "      fill: #D2E3FC;\n",
              "    }\n",
              "\n",
              "    [theme=dark] .colab-df-convert:hover {\n",
              "      background-color: #434B5C;\n",
              "      box-shadow: 0px 1px 3px 1px rgba(0, 0, 0, 0.15);\n",
              "      filter: drop-shadow(0px 1px 2px rgba(0, 0, 0, 0.3));\n",
              "      fill: #FFFFFF;\n",
              "    }\n",
              "  </style>\n",
              "\n",
              "      <script>\n",
              "        const buttonEl =\n",
              "          document.querySelector('#df-485d26d6-1b48-4b38-a0f9-6e1c9b1aad10 button.colab-df-convert');\n",
              "        buttonEl.style.display =\n",
              "          google.colab.kernel.accessAllowed ? 'block' : 'none';\n",
              "\n",
              "        async function convertToInteractive(key) {\n",
              "          const element = document.querySelector('#df-485d26d6-1b48-4b38-a0f9-6e1c9b1aad10');\n",
              "          const dataTable =\n",
              "            await google.colab.kernel.invokeFunction('convertToInteractive',\n",
              "                                                     [key], {});\n",
              "          if (!dataTable) return;\n",
              "\n",
              "          const docLinkHtml = 'Like what you see? Visit the ' +\n",
              "            '<a target=\"_blank\" href=https://colab.research.google.com/notebooks/data_table.ipynb>data table notebook</a>'\n",
              "            + ' to learn more about interactive tables.';\n",
              "          element.innerHTML = '';\n",
              "          dataTable['output_type'] = 'display_data';\n",
              "          await google.colab.output.renderOutput(dataTable, element);\n",
              "          const docLink = document.createElement('div');\n",
              "          docLink.innerHTML = docLinkHtml;\n",
              "          element.appendChild(docLink);\n",
              "        }\n",
              "      </script>\n",
              "    </div>\n",
              "  </div>\n",
              "  "
            ]
          },
          "metadata": {},
          "execution_count": 7
        }
      ]
    },
    {
      "cell_type": "code",
      "source": [
        "df=data.drop(['issue','company_public_response','consumer_complaint_narrative','sub_issue','complaint_id','company_response_to_consumer','date_sent_to_company','zipcode','date_received'],axis=1)"
      ],
      "metadata": {
        "id": "k_Fh1wWo8oCt"
      },
      "execution_count": 8,
      "outputs": []
    },
    {
      "cell_type": "code",
      "source": [
        "df.head(3)"
      ],
      "metadata": {
        "colab": {
          "base_uri": "https://localhost:8080/",
          "height": 143
        },
        "id": "3iBw7ngt5o-9",
        "outputId": "82a58a52-93db-4b9e-9339-2f3bacea82e6"
      },
      "execution_count": 9,
      "outputs": [
        {
          "output_type": "execute_result",
          "data": {
            "text/plain": [
              "            product     sub_product                company state tags  \\\n",
              "0          Mortgage  Other mortgage           U.S. Bancorp    CA  NaN   \n",
              "1          Mortgage  Other mortgage  Wells Fargo & Company    CA  NaN   \n",
              "2  Credit reporting             NaN  Wells Fargo & Company    NY  NaN   \n",
              "\n",
              "  consumer_consent_provided submitted_via timely_response consumer_disputed?  \n",
              "0                       NaN      Referral             Yes                Yes  \n",
              "1                       NaN      Referral             Yes                Yes  \n",
              "2                       NaN   Postal mail             Yes                 No  "
            ],
            "text/html": [
              "\n",
              "  <div id=\"df-d270323b-9b43-4a5e-bafe-cccf78a8a040\">\n",
              "    <div class=\"colab-df-container\">\n",
              "      <div>\n",
              "<style scoped>\n",
              "    .dataframe tbody tr th:only-of-type {\n",
              "        vertical-align: middle;\n",
              "    }\n",
              "\n",
              "    .dataframe tbody tr th {\n",
              "        vertical-align: top;\n",
              "    }\n",
              "\n",
              "    .dataframe thead th {\n",
              "        text-align: right;\n",
              "    }\n",
              "</style>\n",
              "<table border=\"1\" class=\"dataframe\">\n",
              "  <thead>\n",
              "    <tr style=\"text-align: right;\">\n",
              "      <th></th>\n",
              "      <th>product</th>\n",
              "      <th>sub_product</th>\n",
              "      <th>company</th>\n",
              "      <th>state</th>\n",
              "      <th>tags</th>\n",
              "      <th>consumer_consent_provided</th>\n",
              "      <th>submitted_via</th>\n",
              "      <th>timely_response</th>\n",
              "      <th>consumer_disputed?</th>\n",
              "    </tr>\n",
              "  </thead>\n",
              "  <tbody>\n",
              "    <tr>\n",
              "      <th>0</th>\n",
              "      <td>Mortgage</td>\n",
              "      <td>Other mortgage</td>\n",
              "      <td>U.S. Bancorp</td>\n",
              "      <td>CA</td>\n",
              "      <td>NaN</td>\n",
              "      <td>NaN</td>\n",
              "      <td>Referral</td>\n",
              "      <td>Yes</td>\n",
              "      <td>Yes</td>\n",
              "    </tr>\n",
              "    <tr>\n",
              "      <th>1</th>\n",
              "      <td>Mortgage</td>\n",
              "      <td>Other mortgage</td>\n",
              "      <td>Wells Fargo &amp; Company</td>\n",
              "      <td>CA</td>\n",
              "      <td>NaN</td>\n",
              "      <td>NaN</td>\n",
              "      <td>Referral</td>\n",
              "      <td>Yes</td>\n",
              "      <td>Yes</td>\n",
              "    </tr>\n",
              "    <tr>\n",
              "      <th>2</th>\n",
              "      <td>Credit reporting</td>\n",
              "      <td>NaN</td>\n",
              "      <td>Wells Fargo &amp; Company</td>\n",
              "      <td>NY</td>\n",
              "      <td>NaN</td>\n",
              "      <td>NaN</td>\n",
              "      <td>Postal mail</td>\n",
              "      <td>Yes</td>\n",
              "      <td>No</td>\n",
              "    </tr>\n",
              "  </tbody>\n",
              "</table>\n",
              "</div>\n",
              "      <button class=\"colab-df-convert\" onclick=\"convertToInteractive('df-d270323b-9b43-4a5e-bafe-cccf78a8a040')\"\n",
              "              title=\"Convert this dataframe to an interactive table.\"\n",
              "              style=\"display:none;\">\n",
              "        \n",
              "  <svg xmlns=\"http://www.w3.org/2000/svg\" height=\"24px\"viewBox=\"0 0 24 24\"\n",
              "       width=\"24px\">\n",
              "    <path d=\"M0 0h24v24H0V0z\" fill=\"none\"/>\n",
              "    <path d=\"M18.56 5.44l.94 2.06.94-2.06 2.06-.94-2.06-.94-.94-2.06-.94 2.06-2.06.94zm-11 1L8.5 8.5l.94-2.06 2.06-.94-2.06-.94L8.5 2.5l-.94 2.06-2.06.94zm10 10l.94 2.06.94-2.06 2.06-.94-2.06-.94-.94-2.06-.94 2.06-2.06.94z\"/><path d=\"M17.41 7.96l-1.37-1.37c-.4-.4-.92-.59-1.43-.59-.52 0-1.04.2-1.43.59L10.3 9.45l-7.72 7.72c-.78.78-.78 2.05 0 2.83L4 21.41c.39.39.9.59 1.41.59.51 0 1.02-.2 1.41-.59l7.78-7.78 2.81-2.81c.8-.78.8-2.07 0-2.86zM5.41 20L4 18.59l7.72-7.72 1.47 1.35L5.41 20z\"/>\n",
              "  </svg>\n",
              "      </button>\n",
              "      \n",
              "  <style>\n",
              "    .colab-df-container {\n",
              "      display:flex;\n",
              "      flex-wrap:wrap;\n",
              "      gap: 12px;\n",
              "    }\n",
              "\n",
              "    .colab-df-convert {\n",
              "      background-color: #E8F0FE;\n",
              "      border: none;\n",
              "      border-radius: 50%;\n",
              "      cursor: pointer;\n",
              "      display: none;\n",
              "      fill: #1967D2;\n",
              "      height: 32px;\n",
              "      padding: 0 0 0 0;\n",
              "      width: 32px;\n",
              "    }\n",
              "\n",
              "    .colab-df-convert:hover {\n",
              "      background-color: #E2EBFA;\n",
              "      box-shadow: 0px 1px 2px rgba(60, 64, 67, 0.3), 0px 1px 3px 1px rgba(60, 64, 67, 0.15);\n",
              "      fill: #174EA6;\n",
              "    }\n",
              "\n",
              "    [theme=dark] .colab-df-convert {\n",
              "      background-color: #3B4455;\n",
              "      fill: #D2E3FC;\n",
              "    }\n",
              "\n",
              "    [theme=dark] .colab-df-convert:hover {\n",
              "      background-color: #434B5C;\n",
              "      box-shadow: 0px 1px 3px 1px rgba(0, 0, 0, 0.15);\n",
              "      filter: drop-shadow(0px 1px 2px rgba(0, 0, 0, 0.3));\n",
              "      fill: #FFFFFF;\n",
              "    }\n",
              "  </style>\n",
              "\n",
              "      <script>\n",
              "        const buttonEl =\n",
              "          document.querySelector('#df-d270323b-9b43-4a5e-bafe-cccf78a8a040 button.colab-df-convert');\n",
              "        buttonEl.style.display =\n",
              "          google.colab.kernel.accessAllowed ? 'block' : 'none';\n",
              "\n",
              "        async function convertToInteractive(key) {\n",
              "          const element = document.querySelector('#df-d270323b-9b43-4a5e-bafe-cccf78a8a040');\n",
              "          const dataTable =\n",
              "            await google.colab.kernel.invokeFunction('convertToInteractive',\n",
              "                                                     [key], {});\n",
              "          if (!dataTable) return;\n",
              "\n",
              "          const docLinkHtml = 'Like what you see? Visit the ' +\n",
              "            '<a target=\"_blank\" href=https://colab.research.google.com/notebooks/data_table.ipynb>data table notebook</a>'\n",
              "            + ' to learn more about interactive tables.';\n",
              "          element.innerHTML = '';\n",
              "          dataTable['output_type'] = 'display_data';\n",
              "          await google.colab.output.renderOutput(dataTable, element);\n",
              "          const docLink = document.createElement('div');\n",
              "          docLink.innerHTML = docLinkHtml;\n",
              "          element.appendChild(docLink);\n",
              "        }\n",
              "      </script>\n",
              "    </div>\n",
              "  </div>\n",
              "  "
            ]
          },
          "metadata": {},
          "execution_count": 9
        }
      ]
    },
    {
      "cell_type": "code",
      "source": [
        "df=df.sample(10000)\n",
        "df.shape"
      ],
      "metadata": {
        "colab": {
          "base_uri": "https://localhost:8080/"
        },
        "id": "jA7zvZh_5pBp",
        "outputId": "5cd81401-c17c-47b8-dd8a-5a4d960747f0"
      },
      "execution_count": 19,
      "outputs": [
        {
          "output_type": "execute_result",
          "data": {
            "text/plain": [
              "(10000, 9)"
            ]
          },
          "metadata": {},
          "execution_count": 19
        }
      ]
    },
    {
      "cell_type": "code",
      "source": [
        "train_X=df.drop('consumer_disputed?',axis=1)\n",
        "train_y=df['consumer_disputed?']"
      ],
      "metadata": {
        "id": "qZSVGVrm9Gem"
      },
      "execution_count": 20,
      "outputs": []
    },
    {
      "cell_type": "code",
      "source": [
        "df.info()"
      ],
      "metadata": {
        "colab": {
          "base_uri": "https://localhost:8080/"
        },
        "id": "87hmJE2x9GhU",
        "outputId": "b6d0f6b1-80ae-4b97-b2fb-8d2160e90c5d"
      },
      "execution_count": 21,
      "outputs": [
        {
          "output_type": "stream",
          "name": "stdout",
          "text": [
            "<class 'pandas.core.frame.DataFrame'>\n",
            "Int64Index: 10000 entries, 82987 to 492012\n",
            "Data columns (total 9 columns):\n",
            " #   Column                     Non-Null Count  Dtype \n",
            "---  ------                     --------------  ----- \n",
            " 0   product                    10000 non-null  object\n",
            " 1   sub_product                7128 non-null   object\n",
            " 2   company                    10000 non-null  object\n",
            " 3   state                      9916 non-null   object\n",
            " 4   tags                       1368 non-null   object\n",
            " 5   consumer_consent_provided  2237 non-null   object\n",
            " 6   submitted_via              10000 non-null  object\n",
            " 7   timely_response            10000 non-null  object\n",
            " 8   consumer_disputed?         10000 non-null  object\n",
            "dtypes: object(9)\n",
            "memory usage: 781.2+ KB\n"
          ]
        }
      ]
    },
    {
      "cell_type": "markdown",
      "source": [
        "**Creating Pipeline**"
      ],
      "metadata": {
        "id": "siHPrWRm97HE"
      }
    },
    {
      "cell_type": "code",
      "source": [
        "\n",
        "from sklearn.preprocessing import OneHotEncoder\n",
        "from sklearn.pipeline import Pipeline\n",
        "from sklearn.impute import SimpleImputer\n",
        "from sklearn.compose import ColumnTransformer\n",
        "\n",
        "categorical_transformer=Pipeline(steps=[\n",
        "            ('imputer',SimpleImputer(strategy='most_frequent')),\n",
        "            ('onehot',OneHotEncoder(handle_unknown='ignore'))\n",
        "])\n",
        "#numerical_transformer=Pipeline(steps=[\n",
        "          #    ('imputer', SimpleImputer(strategy='median'))                       \n",
        "#])\n",
        "\n",
        "preprocessor=ColumnTransformer(transformers=[\n",
        "    ('cat',categorical_transformer,train_X.columns)\n",
        "])\n"
      ],
      "metadata": {
        "id": "3M32mdmc9Gj8"
      },
      "execution_count": 22,
      "outputs": []
    },
    {
      "cell_type": "code",
      "source": [
        "from sklearn.preprocessing import LabelEncoder\n",
        "\n",
        "labels=df['consumer_disputed?']\n",
        "labelencoder= LabelEncoder()\n",
        "train_y=labelencoder.fit_transform(labels)"
      ],
      "metadata": {
        "id": "eZ78DQGj9GnK"
      },
      "execution_count": 23,
      "outputs": []
    },
    {
      "cell_type": "code",
      "source": [
        "train_y"
      ],
      "metadata": {
        "colab": {
          "base_uri": "https://localhost:8080/"
        },
        "id": "ueyUU7-t9GpS",
        "outputId": "ecb0455d-3d4e-43df-ac85-71ad6061ad93"
      },
      "execution_count": 24,
      "outputs": [
        {
          "output_type": "execute_result",
          "data": {
            "text/plain": [
              "array([0, 0, 0, ..., 0, 0, 0])"
            ]
          },
          "metadata": {},
          "execution_count": 24
        }
      ]
    },
    {
      "cell_type": "markdown",
      "source": [
        "**Normal Logistic Regression**"
      ],
      "metadata": {
        "id": "5TtP77FttGVu"
      }
    },
    {
      "cell_type": "code",
      "source": [
        "from xgboost import XGBClassifier\n",
        "from sklearn.linear_model import LogisticRegression\n",
        "from sklearn.model_selection import GridSearchCV\n",
        "from sklearn.model_selection import KFold\n",
        "\n",
        "#model_ = XGBClassifier(n_estimators=2, max_depth=2, learning_rate=1, objective='binary:logistic')\n",
        "model_=LogisticRegression()\n",
        "\n",
        "# define models and parameters\n",
        "solvers = ['newton-cg', 'lbfgs', 'liblinear']\n",
        "penalty = ['l2']\n",
        "c_values = [100, 10, 1.0, 0.1, 0.01]\n",
        "\n",
        "k_fold = KFold(n_splits=3)\n",
        "\n",
        "fin_pipeline=Pipeline([\n",
        "    ('preprocessor',preprocessor),\n",
        "     (\"model\", model_)\n",
        "])\n",
        "grid = dict(model__solver=solvers,model__penalty=penalty,model__C=c_values)\n",
        "\n",
        "grid_search = GridSearchCV(estimator=fin_pipeline, param_grid=grid, n_jobs=-1, cv=k_fold, scoring='accuracy',error_score=0)\n",
        "grid_result = grid_search.fit(train_X, train_y)\n",
        "\n",
        "#for train_indices,test_indices in k_fold.split(train_X, train_y):\n",
        "  #print(\"TRAIN:\", train_indices, \"TEST:\", test_indices)\n"
      ],
      "metadata": {
        "id": "VFVWJrX39Grm"
      },
      "execution_count": 36,
      "outputs": []
    },
    {
      "cell_type": "code",
      "source": [
        "# summarize results\n",
        "print(\"Best score for Logistic Regression: %f using %s\" % (grid_result.best_score_, grid_result.best_params_))\n",
        "means = grid_result.cv_results_['mean_test_score']\n",
        "stds = grid_result.cv_results_['std_test_score']\n",
        "params = grid_result.cv_results_['params']\n",
        "for mean, stdev, param in zip(means, stds, params):\n",
        "    print(\"%f (%f) with: %r\" % (mean, stdev, param))"
      ],
      "metadata": {
        "colab": {
          "base_uri": "https://localhost:8080/"
        },
        "id": "DdyPQ6z8n-wN",
        "outputId": "63c143ad-e605-4366-c15a-adbb162d0b05"
      },
      "execution_count": 38,
      "outputs": [
        {
          "output_type": "stream",
          "name": "stdout",
          "text": [
            "Best score: 0.798305 using {'model__C': 0.01, 'model__penalty': 'l2', 'model__solver': 'newton-cg'}\n",
            "0.795464 (0.013894) with: {'model__C': 100, 'model__penalty': 'l2', 'model__solver': 'newton-cg'}\n",
            "0.796556 (0.014193) with: {'model__C': 100, 'model__penalty': 'l2', 'model__solver': 'lbfgs'}\n",
            "0.795457 (0.013885) with: {'model__C': 100, 'model__penalty': 'l2', 'model__solver': 'liblinear'}\n",
            "0.795723 (0.013914) with: {'model__C': 10, 'model__penalty': 'l2', 'model__solver': 'newton-cg'}\n",
            "0.796371 (0.014114) with: {'model__C': 10, 'model__penalty': 'l2', 'model__solver': 'lbfgs'}\n",
            "0.795722 (0.013913) with: {'model__C': 10, 'model__penalty': 'l2', 'model__solver': 'liblinear'}\n",
            "0.796553 (0.014128) with: {'model__C': 1.0, 'model__penalty': 'l2', 'model__solver': 'newton-cg'}\n",
            "0.796671 (0.014206) with: {'model__C': 1.0, 'model__penalty': 'l2', 'model__solver': 'lbfgs'}\n",
            "0.796547 (0.014125) with: {'model__C': 1.0, 'model__penalty': 'l2', 'model__solver': 'liblinear'}\n",
            "0.797024 (0.014510) with: {'model__C': 0.1, 'model__penalty': 'l2', 'model__solver': 'newton-cg'}\n",
            "0.797533 (0.014991) with: {'model__C': 0.1, 'model__penalty': 'l2', 'model__solver': 'lbfgs'}\n",
            "0.797024 (0.014510) with: {'model__C': 0.1, 'model__penalty': 'l2', 'model__solver': 'liblinear'}\n",
            "0.798305 (0.015752) with: {'model__C': 0.01, 'model__penalty': 'l2', 'model__solver': 'newton-cg'}\n",
            "0.798305 (0.015752) with: {'model__C': 0.01, 'model__penalty': 'l2', 'model__solver': 'lbfgs'}\n",
            "0.798305 (0.015752) with: {'model__C': 0.01, 'model__penalty': 'l2', 'model__solver': 'liblinear'}\n"
          ]
        }
      ]
    },
    {
      "cell_type": "markdown",
      "source": [
        "**RidgeClassifier tuning alpha**"
      ],
      "metadata": {
        "id": "XfBA5yIVtK94"
      }
    },
    {
      "cell_type": "code",
      "source": [
        "from sklearn.linear_model import RidgeClassifier\n",
        "\n",
        "# define models and parameters\n",
        "model_=RidgeClassifier()\n",
        "alpha = [0.1, 0.2, 0.3, 0.4, 0.5, 0.6, 0.7, 0.8, 0.9, 1.0]\n",
        "\n",
        "k_fold = KFold(n_splits=3)\n",
        "\n",
        "fin_pipeline=Pipeline([\n",
        "    ('preprocessor',preprocessor),\n",
        "     (\"model\", model_)\n",
        "])\n",
        "grid = dict(model__alpha=alpha)\n",
        "\n",
        "grid_search = GridSearchCV(estimator=fin_pipeline, param_grid=grid, n_jobs=-1, cv=k_fold, scoring='accuracy',error_score=0)\n",
        "grid_result = grid_search.fit(train_X, train_y)"
      ],
      "metadata": {
        "id": "sg5IK6xD9GvG"
      },
      "execution_count": 39,
      "outputs": []
    },
    {
      "cell_type": "code",
      "source": [
        "# summarize results\n",
        "print(\"Best score for Ridge Classifier: %f using %s\" % (grid_result.best_score_, grid_result.best_params_))\n",
        "means = grid_result.cv_results_['mean_test_score']\n",
        "stds = grid_result.cv_results_['std_test_score']\n",
        "params = grid_result.cv_results_['params']\n",
        "for mean, stdev, param in zip(means, stds, params):\n",
        "    print(\"%f (%f) with: %r\" % (mean, stdev, param))"
      ],
      "metadata": {
        "id": "1dS6xEeb9Gx8",
        "colab": {
          "base_uri": "https://localhost:8080/"
        },
        "outputId": "79658ae2-28c1-431d-8679-b937f01863eb"
      },
      "execution_count": 40,
      "outputs": [
        {
          "output_type": "stream",
          "name": "stdout",
          "text": [
            "Best score for Ridge Classifier: 0.795901 using {'model__alpha': 1.0}\n",
            "0.795490 (0.013904) with: {'model__alpha': 0.1}\n",
            "0.795610 (0.013927) with: {'model__alpha': 0.2}\n",
            "0.795646 (0.013930) with: {'model__alpha': 0.3}\n",
            "0.795720 (0.013934) with: {'model__alpha': 0.4}\n",
            "0.795758 (0.013907) with: {'model__alpha': 0.5}\n",
            "0.795821 (0.013893) with: {'model__alpha': 0.6}\n",
            "0.795826 (0.013884) with: {'model__alpha': 0.7}\n",
            "0.795862 (0.013892) with: {'model__alpha': 0.8}\n",
            "0.795867 (0.013882) with: {'model__alpha': 0.9}\n",
            "0.795901 (0.013889) with: {'model__alpha': 1.0}\n"
          ]
        }
      ]
    },
    {
      "cell_type": "markdown",
      "source": [
        "**KNN with hyperparameter training**"
      ],
      "metadata": {
        "id": "FkSItKgz_quP"
      }
    },
    {
      "cell_type": "code",
      "source": [
        "from sklearn.neighbors import KNeighborsClassifier\n",
        "from sklearn.model_selection import GridSearchCV\n",
        "from sklearn.model_selection import KFold\n",
        "\n",
        "## define model and hyperparameters\n",
        "model_=KNeighborsClassifier()\n",
        "\n",
        "neighbours=range(1,20,2)\n",
        "wieghts=['uniform','distance']\n",
        "metric = ['euclidean', 'manhattan', 'minkowski']\n",
        "\n",
        "k_fold = KFold(n_splits=3)\n",
        "\n",
        "param_grid=dict(model__n_neighbors=neighbours,model__weights=wieghts,model__metric=metric)\n",
        "\n",
        "model_pipeline=Pipeline([\n",
        "    ('preprocessor',preprocessor),\n",
        "     (\"model\", model_)\n",
        "])\n",
        "grid_search=GridSearchCV(estimator=model_pipeline, param_grid=param_grid, n_jobs=-1, cv=k_fold, scoring='accuracy',error_score=0)\n",
        "grid_result = grid_search.fit(train_X, train_y)"
      ],
      "metadata": {
        "id": "xmbwfkQTuVzE"
      },
      "execution_count": 25,
      "outputs": []
    },
    {
      "cell_type": "code",
      "source": [
        "# summarize results\n",
        "print(\"Best score for KNN Classifier: %f using %s\" % (grid_result.best_score_, grid_result.best_params_))\n",
        "means = grid_result.cv_results_['mean_test_score']\n",
        "stds = grid_result.cv_results_['std_test_score']\n",
        "params = grid_result.cv_results_['params']\n",
        "for mean, stdev, param in zip(means, stds, params):\n",
        "    print(\"%f (%f) with: %r\" % (mean, stdev, param))"
      ],
      "metadata": {
        "colab": {
          "base_uri": "https://localhost:8080/"
        },
        "id": "GucL1wvfuV1W",
        "outputId": "142cec47-3f6c-4270-d2de-f5a8db60051d"
      },
      "execution_count": 26,
      "outputs": [
        {
          "output_type": "stream",
          "name": "stdout",
          "text": [
            "Best score for KNN Classifier: 0.793301 using {'model__metric': 'euclidean', 'model__n_neighbors': 19, 'model__weights': 'uniform'}\n",
            "0.686601 (0.006933) with: {'model__metric': 'euclidean', 'model__n_neighbors': 1, 'model__weights': 'uniform'}\n",
            "0.686601 (0.006933) with: {'model__metric': 'euclidean', 'model__n_neighbors': 1, 'model__weights': 'distance'}\n",
            "0.735001 (0.005056) with: {'model__metric': 'euclidean', 'model__n_neighbors': 3, 'model__weights': 'uniform'}\n",
            "0.730001 (0.004621) with: {'model__metric': 'euclidean', 'model__n_neighbors': 3, 'model__weights': 'distance'}\n",
            "0.756900 (0.002268) with: {'model__metric': 'euclidean', 'model__n_neighbors': 5, 'model__weights': 'uniform'}\n",
            "0.748400 (0.003368) with: {'model__metric': 'euclidean', 'model__n_neighbors': 5, 'model__weights': 'distance'}\n",
            "0.771401 (0.004848) with: {'model__metric': 'euclidean', 'model__n_neighbors': 7, 'model__weights': 'uniform'}\n",
            "0.759201 (0.004879) with: {'model__metric': 'euclidean', 'model__n_neighbors': 7, 'model__weights': 'distance'}\n",
            "0.779901 (0.007716) with: {'model__metric': 'euclidean', 'model__n_neighbors': 9, 'model__weights': 'uniform'}\n",
            "0.766001 (0.007471) with: {'model__metric': 'euclidean', 'model__n_neighbors': 9, 'model__weights': 'distance'}\n",
            "0.784901 (0.008581) with: {'model__metric': 'euclidean', 'model__n_neighbors': 11, 'model__weights': 'uniform'}\n",
            "0.769801 (0.007567) with: {'model__metric': 'euclidean', 'model__n_neighbors': 11, 'model__weights': 'distance'}\n",
            "0.788101 (0.008006) with: {'model__metric': 'euclidean', 'model__n_neighbors': 13, 'model__weights': 'uniform'}\n",
            "0.772201 (0.006587) with: {'model__metric': 'euclidean', 'model__n_neighbors': 13, 'model__weights': 'distance'}\n",
            "0.791801 (0.007669) with: {'model__metric': 'euclidean', 'model__n_neighbors': 15, 'model__weights': 'uniform'}\n",
            "0.774001 (0.006622) with: {'model__metric': 'euclidean', 'model__n_neighbors': 15, 'model__weights': 'distance'}\n",
            "0.792901 (0.007121) with: {'model__metric': 'euclidean', 'model__n_neighbors': 17, 'model__weights': 'uniform'}\n",
            "0.775001 (0.006547) with: {'model__metric': 'euclidean', 'model__n_neighbors': 17, 'model__weights': 'distance'}\n",
            "0.793301 (0.006972) with: {'model__metric': 'euclidean', 'model__n_neighbors': 19, 'model__weights': 'uniform'}\n",
            "0.775101 (0.006508) with: {'model__metric': 'euclidean', 'model__n_neighbors': 19, 'model__weights': 'distance'}\n",
            "0.686601 (0.006933) with: {'model__metric': 'manhattan', 'model__n_neighbors': 1, 'model__weights': 'uniform'}\n",
            "0.686601 (0.006933) with: {'model__metric': 'manhattan', 'model__n_neighbors': 1, 'model__weights': 'distance'}\n",
            "0.735001 (0.005056) with: {'model__metric': 'manhattan', 'model__n_neighbors': 3, 'model__weights': 'uniform'}\n",
            "0.730101 (0.004386) with: {'model__metric': 'manhattan', 'model__n_neighbors': 3, 'model__weights': 'distance'}\n",
            "0.756900 (0.002268) with: {'model__metric': 'manhattan', 'model__n_neighbors': 5, 'model__weights': 'uniform'}\n",
            "0.748000 (0.003592) with: {'model__metric': 'manhattan', 'model__n_neighbors': 5, 'model__weights': 'distance'}\n",
            "0.771401 (0.004848) with: {'model__metric': 'manhattan', 'model__n_neighbors': 7, 'model__weights': 'uniform'}\n",
            "0.758901 (0.005049) with: {'model__metric': 'manhattan', 'model__n_neighbors': 7, 'model__weights': 'distance'}\n",
            "0.779901 (0.007716) with: {'model__metric': 'manhattan', 'model__n_neighbors': 9, 'model__weights': 'uniform'}\n",
            "0.766501 (0.006473) with: {'model__metric': 'manhattan', 'model__n_neighbors': 9, 'model__weights': 'distance'}\n",
            "0.784901 (0.008581) with: {'model__metric': 'manhattan', 'model__n_neighbors': 11, 'model__weights': 'uniform'}\n",
            "0.769801 (0.006708) with: {'model__metric': 'manhattan', 'model__n_neighbors': 11, 'model__weights': 'distance'}\n",
            "0.788101 (0.008006) with: {'model__metric': 'manhattan', 'model__n_neighbors': 13, 'model__weights': 'uniform'}\n",
            "0.772201 (0.006463) with: {'model__metric': 'manhattan', 'model__n_neighbors': 13, 'model__weights': 'distance'}\n",
            "0.791801 (0.007669) with: {'model__metric': 'manhattan', 'model__n_neighbors': 15, 'model__weights': 'uniform'}\n",
            "0.773901 (0.006571) with: {'model__metric': 'manhattan', 'model__n_neighbors': 15, 'model__weights': 'distance'}\n",
            "0.792901 (0.007121) with: {'model__metric': 'manhattan', 'model__n_neighbors': 17, 'model__weights': 'uniform'}\n",
            "0.774801 (0.006415) with: {'model__metric': 'manhattan', 'model__n_neighbors': 17, 'model__weights': 'distance'}\n",
            "0.793301 (0.006972) with: {'model__metric': 'manhattan', 'model__n_neighbors': 19, 'model__weights': 'uniform'}\n",
            "0.775001 (0.006109) with: {'model__metric': 'manhattan', 'model__n_neighbors': 19, 'model__weights': 'distance'}\n",
            "0.686601 (0.006933) with: {'model__metric': 'minkowski', 'model__n_neighbors': 1, 'model__weights': 'uniform'}\n",
            "0.686601 (0.006933) with: {'model__metric': 'minkowski', 'model__n_neighbors': 1, 'model__weights': 'distance'}\n",
            "0.735001 (0.005056) with: {'model__metric': 'minkowski', 'model__n_neighbors': 3, 'model__weights': 'uniform'}\n",
            "0.730001 (0.004621) with: {'model__metric': 'minkowski', 'model__n_neighbors': 3, 'model__weights': 'distance'}\n",
            "0.756900 (0.002268) with: {'model__metric': 'minkowski', 'model__n_neighbors': 5, 'model__weights': 'uniform'}\n",
            "0.748400 (0.003368) with: {'model__metric': 'minkowski', 'model__n_neighbors': 5, 'model__weights': 'distance'}\n",
            "0.771401 (0.004848) with: {'model__metric': 'minkowski', 'model__n_neighbors': 7, 'model__weights': 'uniform'}\n",
            "0.759201 (0.004879) with: {'model__metric': 'minkowski', 'model__n_neighbors': 7, 'model__weights': 'distance'}\n",
            "0.779901 (0.007716) with: {'model__metric': 'minkowski', 'model__n_neighbors': 9, 'model__weights': 'uniform'}\n",
            "0.766001 (0.007471) with: {'model__metric': 'minkowski', 'model__n_neighbors': 9, 'model__weights': 'distance'}\n",
            "0.784901 (0.008581) with: {'model__metric': 'minkowski', 'model__n_neighbors': 11, 'model__weights': 'uniform'}\n",
            "0.769801 (0.007567) with: {'model__metric': 'minkowski', 'model__n_neighbors': 11, 'model__weights': 'distance'}\n",
            "0.788101 (0.008006) with: {'model__metric': 'minkowski', 'model__n_neighbors': 13, 'model__weights': 'uniform'}\n",
            "0.772201 (0.006587) with: {'model__metric': 'minkowski', 'model__n_neighbors': 13, 'model__weights': 'distance'}\n",
            "0.791801 (0.007669) with: {'model__metric': 'minkowski', 'model__n_neighbors': 15, 'model__weights': 'uniform'}\n",
            "0.774001 (0.006622) with: {'model__metric': 'minkowski', 'model__n_neighbors': 15, 'model__weights': 'distance'}\n",
            "0.792901 (0.007121) with: {'model__metric': 'minkowski', 'model__n_neighbors': 17, 'model__weights': 'uniform'}\n",
            "0.775001 (0.006547) with: {'model__metric': 'minkowski', 'model__n_neighbors': 17, 'model__weights': 'distance'}\n",
            "0.793301 (0.006972) with: {'model__metric': 'minkowski', 'model__n_neighbors': 19, 'model__weights': 'uniform'}\n",
            "0.775101 (0.006508) with: {'model__metric': 'minkowski', 'model__n_neighbors': 19, 'model__weights': 'distance'}\n"
          ]
        }
      ]
    },
    {
      "cell_type": "markdown",
      "source": [
        "**Support vector machine**"
      ],
      "metadata": {
        "id": "RgbPZahmFJ6j"
      }
    },
    {
      "cell_type": "code",
      "source": [
        "from sklearn.svm import SVC\n",
        "\n",
        "## define model and hyperparameters\n",
        "model_=SVC()\n",
        "\n",
        "kernel=['linear', 'poly', 'rbf']\n",
        "C=[50, 10, 1.0, 0.1, 0.01]\n",
        "gamma=['scale']\n",
        "k_fold = KFold(n_splits=3)\n",
        "param_grid=dict(model__kernel=kernel,model__C=C,model__gamma=gamma)\n",
        "\n",
        "model_pipeline=Pipeline([\n",
        "    ('preprocessor',preprocessor),\n",
        "     (\"model\", model_)\n",
        "])\n",
        "\n",
        "grid_search=GridSearchCV(estimator=model_pipeline, param_grid=param_grid, n_jobs=-1, cv=k_fold, scoring='accuracy',error_score=0)\n",
        "grid_result = grid_search.fit(train_X, train_y)"
      ],
      "metadata": {
        "id": "R7POmO-ouV5C"
      },
      "execution_count": 28,
      "outputs": []
    },
    {
      "cell_type": "code",
      "source": [
        "# summarize results\n",
        "print(\"Best score for SVC Classifier: %f using %s\" % (grid_result.best_score_, grid_result.best_params_))\n",
        "means = grid_result.cv_results_['mean_test_score']\n",
        "stds = grid_result.cv_results_['std_test_score']\n",
        "params = grid_result.cv_results_['params']\n",
        "for mean, stdev, param in zip(means, stds, params):\n",
        "    print(\"%f (%f) with: %r\" % (mean, stdev, param))"
      ],
      "metadata": {
        "colab": {
          "base_uri": "https://localhost:8080/"
        },
        "id": "M6zftb0iFO1r",
        "outputId": "bc4f4d1d-e7f1-41e9-8022-2979dde78fa6"
      },
      "execution_count": 29,
      "outputs": [
        {
          "output_type": "stream",
          "name": "stdout",
          "text": [
            "Best score for SVC Classifier: 0.795401 using {'model__C': 1.0, 'model__gamma': 'scale', 'model__kernel': 'poly'}\n",
            "0.785901 (0.007253) with: {'model__C': 50, 'model__gamma': 'scale', 'model__kernel': 'linear'}\n",
            "0.719400 (0.001327) with: {'model__C': 50, 'model__gamma': 'scale', 'model__kernel': 'poly'}\n",
            "0.725400 (0.002599) with: {'model__C': 50, 'model__gamma': 'scale', 'model__kernel': 'rbf'}\n",
            "0.785901 (0.007253) with: {'model__C': 10, 'model__gamma': 'scale', 'model__kernel': 'linear'}\n",
            "0.747000 (0.004732) with: {'model__C': 10, 'model__gamma': 'scale', 'model__kernel': 'poly'}\n",
            "0.763800 (0.001693) with: {'model__C': 10, 'model__gamma': 'scale', 'model__kernel': 'rbf'}\n",
            "0.786501 (0.006838) with: {'model__C': 1.0, 'model__gamma': 'scale', 'model__kernel': 'linear'}\n",
            "0.795401 (0.005991) with: {'model__C': 1.0, 'model__gamma': 'scale', 'model__kernel': 'poly'}\n",
            "0.795301 (0.005902) with: {'model__C': 1.0, 'model__gamma': 'scale', 'model__kernel': 'rbf'}\n",
            "0.795301 (0.005902) with: {'model__C': 0.1, 'model__gamma': 'scale', 'model__kernel': 'linear'}\n",
            "0.795301 (0.005902) with: {'model__C': 0.1, 'model__gamma': 'scale', 'model__kernel': 'poly'}\n",
            "0.795301 (0.005902) with: {'model__C': 0.1, 'model__gamma': 'scale', 'model__kernel': 'rbf'}\n",
            "0.795301 (0.005902) with: {'model__C': 0.01, 'model__gamma': 'scale', 'model__kernel': 'linear'}\n",
            "0.795301 (0.005902) with: {'model__C': 0.01, 'model__gamma': 'scale', 'model__kernel': 'poly'}\n",
            "0.795301 (0.005902) with: {'model__C': 0.01, 'model__gamma': 'scale', 'model__kernel': 'rbf'}\n"
          ]
        }
      ]
    },
    {
      "cell_type": "code",
      "source": [],
      "metadata": {
        "id": "pUsJr-vTFO4R"
      },
      "execution_count": null,
      "outputs": []
    },
    {
      "cell_type": "code",
      "source": [],
      "metadata": {
        "id": "KQdjME5tuV7p"
      },
      "execution_count": null,
      "outputs": []
    },
    {
      "cell_type": "code",
      "source": [
        "from sklearn.model_selection import RepeatedStratifiedKFold\n",
        "from sklearn.model_selection import KFold\n",
        "from sklearn.model_selection import cross_val_score\n",
        "\n",
        "#kfold = KFold(3, True, 1)\n",
        "k_fold = KFold(n_splits=3)\n",
        "#cross_val_score(lasso, X, y, cv=3)\n",
        "X = np.array([[1, 2,7,4], [3, 4,6,2], [8,12,1, 2], [3,5,7, 4]])\n",
        "y = np.array([0, 1, 0, 1])\n",
        "#rskf = RepeatedStratifiedKFold(n_splits=2, n_repeats=2,    random_state=36851234)\n",
        "for train_index, test_index in k_fold.split(X, y):\n",
        "  print(\"TRAIN:\", train_index, \"TEST:\", test_index)\n",
        "  X_train, X_test = X[train_index], X[test_index]\n",
        "  y_train, y_test = y[train_index], y[test_index]"
      ],
      "metadata": {
        "id": "F9vqamlg5pET",
        "colab": {
          "base_uri": "https://localhost:8080/"
        },
        "outputId": "713cb036-2109-497d-f4ff-651721d6f696"
      },
      "execution_count": 30,
      "outputs": [
        {
          "output_type": "stream",
          "name": "stdout",
          "text": [
            "TRAIN: [2 3] TEST: [0 1]\n",
            "TRAIN: [0 1 3] TEST: [2]\n",
            "TRAIN: [0 1 2] TEST: [3]\n"
          ]
        }
      ]
    },
    {
      "cell_type": "code",
      "source": [
        "X"
      ],
      "metadata": {
        "id": "pooKFZWe5pGZ",
        "colab": {
          "base_uri": "https://localhost:8080/"
        },
        "outputId": "b75e4d29-7e89-4ae0-9bf5-bf862176b1e3"
      },
      "execution_count": 24,
      "outputs": [
        {
          "output_type": "execute_result",
          "data": {
            "text/plain": [
              "array([[ 1,  2,  7,  4],\n",
              "       [ 3,  4,  0,  2],\n",
              "       [ 8, 12,  1,  2],\n",
              "       [ 3,  5,  7,  4]])"
            ]
          },
          "metadata": {},
          "execution_count": 24
        }
      ]
    },
    {
      "cell_type": "code",
      "source": [],
      "metadata": {
        "id": "Q-J2phR-5pJK"
      },
      "execution_count": 16,
      "outputs": []
    },
    {
      "cell_type": "code",
      "source": [],
      "metadata": {
        "id": "-AE-gYE120PL"
      },
      "execution_count": 16,
      "outputs": []
    },
    {
      "cell_type": "code",
      "source": [],
      "metadata": {
        "id": "VTI2bfAv20SO"
      },
      "execution_count": 16,
      "outputs": []
    }
  ]
}